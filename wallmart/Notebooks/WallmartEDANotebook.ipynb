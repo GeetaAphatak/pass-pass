{
 "cells": [
  {
   "cell_type": "markdown",
   "id": "5e707529",
   "metadata": {},
   "source": [
    "### This Notebook was built to run Quick EDA on input data on Daily/weekly/Monthly levels to understand the patterns in the data\n",
    "\n",
    "\n",
    "# Assumptions\n",
    "- Data is a time-series data. i.e. data has a date column and a target column that varies with date\n",
    "- Data has atleast 3 months of data in total or for the selected group\n",
    "- input file is an excel or csv\n",
    "- All requirements are installed in the env that the notebook is running on (pls use requirements.txt file for install them in env)\n",
    "\n",
    "\n",
    "\n",
    "## Instructions\n",
    "User is expected to give the following inputs to the notebook\n",
    "- **data_path**          - Path to the input data file \n",
    "- **date_col_name**      - The column name that holds the date\n",
    "- **target_col_name**    - The column name that holds the target value\n",
    "- **target_plot_label**  - This name will be used for labeling the plots\n",
    "- **group_cols**         -  (True/False) If there is grouping required before Analysing the data\n",
    "- **grp_by_cols**        -  (if group_cols = True) What column names are to used for group by\n",
    "- **group**              -  (if group_cols = True) Which group is to be Analyzed\n",
    "\n",
    "**In : Select the Year (CODE BLOCK)**\n",
    "- **year**               - Select the year to filter data and Analyze\n",
    "\n",
    "**In : DATA FILTER (CODE BLOCK)**\n",
    "- **date_range_start**   -  Used to filter specific period in data - Start date input (expects Same format as date column in input file)\n",
    "- **date_range_end**     - Used to filter specific period in data - End date input (expects Same format as date column in input file)\n",
    "\n",
    "**In :  First / Second / Third /Fourth Weekday accross Year (CODE BLOCK)**\n",
    "- **weekday**            - Which Day of the week is to be Analyzed (Eg: 'Monday')\n",
    "\n",
    "### Modify code blocks\n",
    "\n",
    "- This Notebook was built for taking minimum inputs from users. So, the code blocks are parameterized. "
   ]
  },
  {
   "cell_type": "code",
   "execution_count": 4,
   "id": "110d3560",
   "metadata": {},
   "outputs": [],
   "source": [
    "# Run this cell and hit toggle button to hide or unhide the code part\n",
    "\n",
    "import pandas as pd\n",
    "import numpy as np\n",
    "\n",
    "import matplotlib.pyplot as plt\n",
    "import seaborn as sns\n",
    "\n",
    "from IPython.display import display\n",
    "from IPython.display import HTML\n",
    "import IPython.core.display as di \n",
    "\n",
    "\n",
    "# print('Run this cell and hit toggle button to hide or unhide the code part')\n",
    "\n",
    "# # This line will hide code by default when the notebook is exported as HTML\n",
    "# di.display_html('<script>jQuery(function() {if (jQuery(\"body.notebook_app\").length == 0) { jQuery(\".input_area\").toggle(); jQuery(\".prompt\").toggle();}});</script>', raw=True)\n",
    "\n",
    "# # This line will add a button to toggle visibility of code blocks, for use with the HTML export version\n",
    "# di.display_html('''<button onclick=\"jQuery('.input_area').toggle(); jQuery('.prompt').toggle();\">Toggle code</button>''', raw=True)"
   ]
  },
  {
   "cell_type": "code",
   "execution_count": 5,
   "id": "ce588f37",
   "metadata": {},
   "outputs": [],
   "source": [
    "import warnings\n",
    "warnings.filterwarnings('ignore')"
   ]
  },
  {
   "cell_type": "markdown",
   "id": "d6377254",
   "metadata": {},
   "source": [
    "### Loading Data from Local CSV File to perform Analysis on Data Pattern"
   ]
  },
  {
   "cell_type": "markdown",
   "id": "beeffd39",
   "metadata": {},
   "source": [
    "#### This Notebook helps identify which pipeline(Change value or Seasonality) is better for the metric"
   ]
  },
  {
   "cell_type": "code",
   "execution_count": 1,
   "id": "09d6b795",
   "metadata": {},
   "outputs": [],
   "source": [
    "## USER INPUTS\n",
    "# data_path - Path to the input data file\n",
    "# date_col_name - The column name that holds the date\n",
    "# target_col_name - The column name that holds the target value\n",
    "# target_plot_label - This name will be used for labeling the plots\n",
    "\n",
    "\n",
    "data_path = \"C:/Geeta/learning/projects/GPTengineer/anomaly_detection/Datasets/Walmart.csv\"\n",
    "date_col_name = 'Date'\n",
    "target_col_name = 'Weekly_Sales'\n",
    "\n",
    "## Below field identifies the plot names\n",
    "target_plot_label = \"Walmart's Weekly Sales Analysis\"\n",
    "\n",
    "## group_cols - is grouping required (true or False)\n",
    "## grp_by_cols - level at which the data is to be grouped to identify anomalies\n",
    "## group - This filters the data based on selected values for the columns.\n",
    "\n",
    "group_cols = True\n",
    "grp_by_cols = ['region']\n",
    "group = ('south')"
   ]
  },
  {
   "cell_type": "code",
   "execution_count": 2,
   "id": "bcfc6ac7",
   "metadata": {},
   "outputs": [],
   "source": [
    "def read(data_path, sheet_name = ''):\n",
    "    df = pd.DataFrame()\n",
    "    if data_path.split('.')[-1] == 'xlsx':\n",
    "        if sheet_name:\n",
    "            df = pd.read_excel(data_path, sheet_name=sheet_name)\n",
    "        else:\n",
    "            df = pd.read_excel(data_path)\n",
    "        print(\"Shape of the data in file {} is {}\".format(data_path, df.shape))\n",
    "    else:\n",
    "        try:\n",
    "            df = pd.read_csv(data_path)\n",
    "            print(\"Shape of the data in file {} is {}\".format(data_path, df.shape))\n",
    "            if df.shape[0] == 0:\n",
    "                print(\"No data in file {}\".format(data_path))\n",
    "        except Exception as e:\n",
    "            print(\"Issue while reading data at {} \\n{}\".format(data_path, e))\n",
    "    return df"
   ]
  },
  {
   "cell_type": "code",
   "execution_count": 6,
   "id": "7e84a271",
   "metadata": {},
   "outputs": [
    {
     "name": "stdout",
     "output_type": "stream",
     "text": [
      "Shape of the data in file C:/Geeta/learning/projects/GPTengineer/anomaly_detection/Datasets/Walmart.csv is (6435, 8)\n"
     ]
    },
    {
     "data": {
      "text/html": [
       "<div>\n",
       "<style scoped>\n",
       "    .dataframe tbody tr th:only-of-type {\n",
       "        vertical-align: middle;\n",
       "    }\n",
       "\n",
       "    .dataframe tbody tr th {\n",
       "        vertical-align: top;\n",
       "    }\n",
       "\n",
       "    .dataframe thead th {\n",
       "        text-align: right;\n",
       "    }\n",
       "</style>\n",
       "<table border=\"1\" class=\"dataframe\">\n",
       "  <thead>\n",
       "    <tr style=\"text-align: right;\">\n",
       "      <th></th>\n",
       "      <th>Store</th>\n",
       "      <th>Date</th>\n",
       "      <th>Weekly_Sales</th>\n",
       "      <th>Holiday_Flag</th>\n",
       "      <th>Temperature</th>\n",
       "      <th>Fuel_Price</th>\n",
       "      <th>CPI</th>\n",
       "      <th>Unemployment</th>\n",
       "    </tr>\n",
       "  </thead>\n",
       "  <tbody>\n",
       "    <tr>\n",
       "      <th>0</th>\n",
       "      <td>1</td>\n",
       "      <td>5/2/10</td>\n",
       "      <td>1643690.90</td>\n",
       "      <td>0</td>\n",
       "      <td>42.31</td>\n",
       "      <td>2.572</td>\n",
       "      <td>211.096358</td>\n",
       "      <td>8.106</td>\n",
       "    </tr>\n",
       "    <tr>\n",
       "      <th>1</th>\n",
       "      <td>1</td>\n",
       "      <td>12/2/10</td>\n",
       "      <td>1641957.44</td>\n",
       "      <td>1</td>\n",
       "      <td>38.51</td>\n",
       "      <td>2.548</td>\n",
       "      <td>211.242170</td>\n",
       "      <td>8.106</td>\n",
       "    </tr>\n",
       "    <tr>\n",
       "      <th>2</th>\n",
       "      <td>1</td>\n",
       "      <td>19-02-2010</td>\n",
       "      <td>1611968.17</td>\n",
       "      <td>0</td>\n",
       "      <td>39.93</td>\n",
       "      <td>2.514</td>\n",
       "      <td>211.289143</td>\n",
       "      <td>8.106</td>\n",
       "    </tr>\n",
       "  </tbody>\n",
       "</table>\n",
       "</div>"
      ],
      "text/plain": [
       "   Store        Date  Weekly_Sales  Holiday_Flag  Temperature  Fuel_Price  \\\n",
       "0      1      5/2/10    1643690.90             0        42.31       2.572   \n",
       "1      1     12/2/10    1641957.44             1        38.51       2.548   \n",
       "2      1  19-02-2010    1611968.17             0        39.93       2.514   \n",
       "\n",
       "          CPI  Unemployment  \n",
       "0  211.096358         8.106  \n",
       "1  211.242170         8.106  \n",
       "2  211.289143         8.106  "
      ]
     },
     "execution_count": 6,
     "metadata": {},
     "output_type": "execute_result"
    }
   ],
   "source": [
    "# Read data from csv or excel, sheet_name is the sheet in excel that contians data \n",
    "df = read(data_path, sheet_name= 'RAW')\n",
    "df.head(3)"
   ]
  },
  {
   "cell_type": "code",
   "execution_count": 8,
   "id": "c473b0d1-056a-49ec-882a-2ef0428de500",
   "metadata": {},
   "outputs": [
    {
     "data": {
      "text/plain": [
       "(6435, 8)"
      ]
     },
     "execution_count": 8,
     "metadata": {},
     "output_type": "execute_result"
    }
   ],
   "source": [
    "df.shape"
   ]
  },
  {
   "cell_type": "code",
   "execution_count": 9,
   "id": "1cb4b3d2-7502-41c3-85f3-912c0983372c",
   "metadata": {},
   "outputs": [],
   "source": [
    "def standardize_date_col(dataframe, date_col):\n",
    "    dataframe[date_col] = pd.to_datetime(dataframe[date_col], format='%d-%m-%Y', errors='coerce').fillna(pd.to_datetime(df['Date'], format='%d/%m/%y', errors='coerce'))\n",
    "    # Convert all dates to 'mm-dd-yyyy' format\n",
    "    dataframe[date_col] = dataframe[date_col].dt.strftime('%Y-%m-%d')\n",
    "    return dataframe"
   ]
  },
  {
   "cell_type": "code",
   "execution_count": 10,
   "id": "4a73315b-e6a0-42c8-a0c9-87bfee9cc7bc",
   "metadata": {
    "scrolled": true
   },
   "outputs": [
    {
     "data": {
      "text/html": [
       "<div>\n",
       "<style scoped>\n",
       "    .dataframe tbody tr th:only-of-type {\n",
       "        vertical-align: middle;\n",
       "    }\n",
       "\n",
       "    .dataframe tbody tr th {\n",
       "        vertical-align: top;\n",
       "    }\n",
       "\n",
       "    .dataframe thead th {\n",
       "        text-align: right;\n",
       "    }\n",
       "</style>\n",
       "<table border=\"1\" class=\"dataframe\">\n",
       "  <thead>\n",
       "    <tr style=\"text-align: right;\">\n",
       "      <th></th>\n",
       "      <th>Store</th>\n",
       "      <th>Date</th>\n",
       "      <th>Weekly_Sales</th>\n",
       "      <th>Holiday_Flag</th>\n",
       "      <th>Temperature</th>\n",
       "      <th>Fuel_Price</th>\n",
       "      <th>CPI</th>\n",
       "      <th>Unemployment</th>\n",
       "    </tr>\n",
       "  </thead>\n",
       "  <tbody>\n",
       "    <tr>\n",
       "      <th>0</th>\n",
       "      <td>1</td>\n",
       "      <td>2010-02-05</td>\n",
       "      <td>1643690.90</td>\n",
       "      <td>0</td>\n",
       "      <td>42.31</td>\n",
       "      <td>2.572</td>\n",
       "      <td>211.096358</td>\n",
       "      <td>8.106</td>\n",
       "    </tr>\n",
       "    <tr>\n",
       "      <th>1</th>\n",
       "      <td>1</td>\n",
       "      <td>2010-02-12</td>\n",
       "      <td>1641957.44</td>\n",
       "      <td>1</td>\n",
       "      <td>38.51</td>\n",
       "      <td>2.548</td>\n",
       "      <td>211.242170</td>\n",
       "      <td>8.106</td>\n",
       "    </tr>\n",
       "    <tr>\n",
       "      <th>2</th>\n",
       "      <td>1</td>\n",
       "      <td>2010-02-19</td>\n",
       "      <td>1611968.17</td>\n",
       "      <td>0</td>\n",
       "      <td>39.93</td>\n",
       "      <td>2.514</td>\n",
       "      <td>211.289143</td>\n",
       "      <td>8.106</td>\n",
       "    </tr>\n",
       "  </tbody>\n",
       "</table>\n",
       "</div>"
      ],
      "text/plain": [
       "   Store        Date  Weekly_Sales  Holiday_Flag  Temperature  Fuel_Price  \\\n",
       "0      1  2010-02-05    1643690.90             0        42.31       2.572   \n",
       "1      1  2010-02-12    1641957.44             1        38.51       2.548   \n",
       "2      1  2010-02-19    1611968.17             0        39.93       2.514   \n",
       "\n",
       "          CPI  Unemployment  \n",
       "0  211.096358         8.106  \n",
       "1  211.242170         8.106  \n",
       "2  211.289143         8.106  "
      ]
     },
     "execution_count": 10,
     "metadata": {},
     "output_type": "execute_result"
    }
   ],
   "source": [
    "df = standardize_date_col(df, date_col_name)\n",
    "df.head(3)"
   ]
  },
  {
   "cell_type": "code",
   "execution_count": 14,
   "id": "2b2009eb-287c-4d5d-b153-cedfc365e589",
   "metadata": {},
   "outputs": [],
   "source": [
    "# df[date_col_name].agg(['min', 'max']), \n",
    "dec = df.describe()"
   ]
  },
  {
   "cell_type": "code",
   "execution_count": 15,
   "id": "2a3e4f22-623e-458e-b113-d2041f585f01",
   "metadata": {},
   "outputs": [
    {
     "data": {
      "text/html": [
       "<div>\n",
       "<style scoped>\n",
       "    .dataframe tbody tr th:only-of-type {\n",
       "        vertical-align: middle;\n",
       "    }\n",
       "\n",
       "    .dataframe tbody tr th {\n",
       "        vertical-align: top;\n",
       "    }\n",
       "\n",
       "    .dataframe thead th {\n",
       "        text-align: right;\n",
       "    }\n",
       "</style>\n",
       "<table border=\"1\" class=\"dataframe\">\n",
       "  <thead>\n",
       "    <tr style=\"text-align: right;\">\n",
       "      <th></th>\n",
       "      <th>Store</th>\n",
       "      <th>Weekly_Sales</th>\n",
       "      <th>Holiday_Flag</th>\n",
       "      <th>Temperature</th>\n",
       "      <th>Fuel_Price</th>\n",
       "      <th>CPI</th>\n",
       "      <th>Unemployment</th>\n",
       "    </tr>\n",
       "  </thead>\n",
       "  <tbody>\n",
       "    <tr>\n",
       "      <th>count</th>\n",
       "      <td>6435.000000</td>\n",
       "      <td>6.435000e+03</td>\n",
       "      <td>6435.000000</td>\n",
       "      <td>6435.000000</td>\n",
       "      <td>6435.000000</td>\n",
       "      <td>6435.000000</td>\n",
       "      <td>6435.000000</td>\n",
       "    </tr>\n",
       "    <tr>\n",
       "      <th>mean</th>\n",
       "      <td>23.000000</td>\n",
       "      <td>1.046965e+06</td>\n",
       "      <td>0.069930</td>\n",
       "      <td>60.663782</td>\n",
       "      <td>3.358607</td>\n",
       "      <td>171.578394</td>\n",
       "      <td>7.999151</td>\n",
       "    </tr>\n",
       "    <tr>\n",
       "      <th>std</th>\n",
       "      <td>12.988182</td>\n",
       "      <td>5.643666e+05</td>\n",
       "      <td>0.255049</td>\n",
       "      <td>18.444933</td>\n",
       "      <td>0.459020</td>\n",
       "      <td>39.356712</td>\n",
       "      <td>1.875885</td>\n",
       "    </tr>\n",
       "    <tr>\n",
       "      <th>min</th>\n",
       "      <td>1.000000</td>\n",
       "      <td>2.099862e+05</td>\n",
       "      <td>0.000000</td>\n",
       "      <td>-2.060000</td>\n",
       "      <td>2.472000</td>\n",
       "      <td>126.064000</td>\n",
       "      <td>3.879000</td>\n",
       "    </tr>\n",
       "    <tr>\n",
       "      <th>25%</th>\n",
       "      <td>12.000000</td>\n",
       "      <td>5.533501e+05</td>\n",
       "      <td>0.000000</td>\n",
       "      <td>47.460000</td>\n",
       "      <td>2.933000</td>\n",
       "      <td>131.735000</td>\n",
       "      <td>6.891000</td>\n",
       "    </tr>\n",
       "    <tr>\n",
       "      <th>50%</th>\n",
       "      <td>23.000000</td>\n",
       "      <td>9.607460e+05</td>\n",
       "      <td>0.000000</td>\n",
       "      <td>62.670000</td>\n",
       "      <td>3.445000</td>\n",
       "      <td>182.616521</td>\n",
       "      <td>7.874000</td>\n",
       "    </tr>\n",
       "    <tr>\n",
       "      <th>75%</th>\n",
       "      <td>34.000000</td>\n",
       "      <td>1.420159e+06</td>\n",
       "      <td>0.000000</td>\n",
       "      <td>74.940000</td>\n",
       "      <td>3.735000</td>\n",
       "      <td>212.743293</td>\n",
       "      <td>8.622000</td>\n",
       "    </tr>\n",
       "    <tr>\n",
       "      <th>max</th>\n",
       "      <td>45.000000</td>\n",
       "      <td>3.818686e+06</td>\n",
       "      <td>1.000000</td>\n",
       "      <td>100.140000</td>\n",
       "      <td>4.468000</td>\n",
       "      <td>227.232807</td>\n",
       "      <td>14.313000</td>\n",
       "    </tr>\n",
       "  </tbody>\n",
       "</table>\n",
       "</div>"
      ],
      "text/plain": [
       "             Store  Weekly_Sales  Holiday_Flag  Temperature   Fuel_Price  \\\n",
       "count  6435.000000  6.435000e+03   6435.000000  6435.000000  6435.000000   \n",
       "mean     23.000000  1.046965e+06      0.069930    60.663782     3.358607   \n",
       "std      12.988182  5.643666e+05      0.255049    18.444933     0.459020   \n",
       "min       1.000000  2.099862e+05      0.000000    -2.060000     2.472000   \n",
       "25%      12.000000  5.533501e+05      0.000000    47.460000     2.933000   \n",
       "50%      23.000000  9.607460e+05      0.000000    62.670000     3.445000   \n",
       "75%      34.000000  1.420159e+06      0.000000    74.940000     3.735000   \n",
       "max      45.000000  3.818686e+06      1.000000   100.140000     4.468000   \n",
       "\n",
       "               CPI  Unemployment  \n",
       "count  6435.000000   6435.000000  \n",
       "mean    171.578394      7.999151  \n",
       "std      39.356712      1.875885  \n",
       "min     126.064000      3.879000  \n",
       "25%     131.735000      6.891000  \n",
       "50%     182.616521      7.874000  \n",
       "75%     212.743293      8.622000  \n",
       "max     227.232807     14.313000  "
      ]
     },
     "execution_count": 15,
     "metadata": {},
     "output_type": "execute_result"
    }
   ],
   "source": [
    "dec"
   ]
  },
  {
   "cell_type": "code",
   "execution_count": 9,
   "id": "63f4d02e-49a8-41be-80cd-81784b13c1b3",
   "metadata": {},
   "outputs": [],
   "source": [
    "## Add reagion column consisting 'east', 'west', 'north' and 'south', with each of the regions containing 11-12 stores.\n",
    "def add_region():\n",
    "    # Define a function to map values based on the specified ranges\n",
    "    def map_value(val):\n",
    "        if 1 <= val <= 11:\n",
    "            return 'east'\n",
    "        elif 11 <= val <= 22:\n",
    "            return 'west'\n",
    "        elif 22 <= val <= 33:\n",
    "            return 'north'\n",
    "        else:\n",
    "            return 'south'\n",
    "    \n",
    "    # Add a new column 'r' to the DataFrame based on the mapping function\n",
    "    df['region'] = df['Store'].apply(map_value)\n",
    "    "
   ]
  },
  {
   "cell_type": "code",
   "execution_count": 10,
   "id": "7b4b0fa6-b96e-4b27-8a52-d2a9986ab9ba",
   "metadata": {},
   "outputs": [
    {
     "data": {
      "text/html": [
       "<div>\n",
       "<style scoped>\n",
       "    .dataframe tbody tr th:only-of-type {\n",
       "        vertical-align: middle;\n",
       "    }\n",
       "\n",
       "    .dataframe tbody tr th {\n",
       "        vertical-align: top;\n",
       "    }\n",
       "\n",
       "    .dataframe thead th {\n",
       "        text-align: right;\n",
       "    }\n",
       "</style>\n",
       "<table border=\"1\" class=\"dataframe\">\n",
       "  <thead>\n",
       "    <tr style=\"text-align: right;\">\n",
       "      <th></th>\n",
       "      <th>Store</th>\n",
       "      <th>Date</th>\n",
       "      <th>Weekly_Sales</th>\n",
       "      <th>Holiday_Flag</th>\n",
       "      <th>Temperature</th>\n",
       "      <th>Fuel_Price</th>\n",
       "      <th>CPI</th>\n",
       "      <th>Unemployment</th>\n",
       "      <th>region</th>\n",
       "    </tr>\n",
       "  </thead>\n",
       "  <tbody>\n",
       "    <tr>\n",
       "      <th>0</th>\n",
       "      <td>1</td>\n",
       "      <td>2010-02-05</td>\n",
       "      <td>1643690.90</td>\n",
       "      <td>0</td>\n",
       "      <td>42.31</td>\n",
       "      <td>2.572</td>\n",
       "      <td>211.096358</td>\n",
       "      <td>8.106</td>\n",
       "      <td>east</td>\n",
       "    </tr>\n",
       "    <tr>\n",
       "      <th>1</th>\n",
       "      <td>1</td>\n",
       "      <td>2010-02-12</td>\n",
       "      <td>1641957.44</td>\n",
       "      <td>1</td>\n",
       "      <td>38.51</td>\n",
       "      <td>2.548</td>\n",
       "      <td>211.242170</td>\n",
       "      <td>8.106</td>\n",
       "      <td>east</td>\n",
       "    </tr>\n",
       "    <tr>\n",
       "      <th>2</th>\n",
       "      <td>1</td>\n",
       "      <td>2010-02-19</td>\n",
       "      <td>1611968.17</td>\n",
       "      <td>0</td>\n",
       "      <td>39.93</td>\n",
       "      <td>2.514</td>\n",
       "      <td>211.289143</td>\n",
       "      <td>8.106</td>\n",
       "      <td>east</td>\n",
       "    </tr>\n",
       "  </tbody>\n",
       "</table>\n",
       "</div>"
      ],
      "text/plain": [
       "   Store        Date  Weekly_Sales  Holiday_Flag  Temperature  Fuel_Price  \\\n",
       "0      1  2010-02-05    1643690.90             0        42.31       2.572   \n",
       "1      1  2010-02-12    1641957.44             1        38.51       2.548   \n",
       "2      1  2010-02-19    1611968.17             0        39.93       2.514   \n",
       "\n",
       "          CPI  Unemployment region  \n",
       "0  211.096358         8.106   east  \n",
       "1  211.242170         8.106   east  \n",
       "2  211.289143         8.106   east  "
      ]
     },
     "execution_count": 10,
     "metadata": {},
     "output_type": "execute_result"
    }
   ],
   "source": [
    "add_region()\n",
    "df.head(3)"
   ]
  },
  {
   "cell_type": "code",
   "execution_count": 11,
   "id": "70512aa2-c881-4e21-a226-26486c88cdf8",
   "metadata": {},
   "outputs": [
    {
     "data": {
      "text/html": [
       "<div>\n",
       "<style scoped>\n",
       "    .dataframe tbody tr th:only-of-type {\n",
       "        vertical-align: middle;\n",
       "    }\n",
       "\n",
       "    .dataframe tbody tr th {\n",
       "        vertical-align: top;\n",
       "    }\n",
       "\n",
       "    .dataframe thead th {\n",
       "        text-align: right;\n",
       "    }\n",
       "</style>\n",
       "<table border=\"1\" class=\"dataframe\">\n",
       "  <thead>\n",
       "    <tr style=\"text-align: right;\">\n",
       "      <th></th>\n",
       "      <th>Store</th>\n",
       "      <th>Date</th>\n",
       "      <th>Weekly_Sales</th>\n",
       "      <th>Holiday_Flag</th>\n",
       "      <th>Temperature</th>\n",
       "      <th>Fuel_Price</th>\n",
       "      <th>CPI</th>\n",
       "      <th>Unemployment</th>\n",
       "      <th>region</th>\n",
       "    </tr>\n",
       "  </thead>\n",
       "  <tbody>\n",
       "    <tr>\n",
       "      <th>6432</th>\n",
       "      <td>45</td>\n",
       "      <td>2012-10-12</td>\n",
       "      <td>734464.36</td>\n",
       "      <td>0</td>\n",
       "      <td>54.47</td>\n",
       "      <td>4.000</td>\n",
       "      <td>192.327265</td>\n",
       "      <td>8.667</td>\n",
       "      <td>south</td>\n",
       "    </tr>\n",
       "    <tr>\n",
       "      <th>6433</th>\n",
       "      <td>45</td>\n",
       "      <td>2012-10-19</td>\n",
       "      <td>718125.53</td>\n",
       "      <td>0</td>\n",
       "      <td>56.47</td>\n",
       "      <td>3.969</td>\n",
       "      <td>192.330854</td>\n",
       "      <td>8.667</td>\n",
       "      <td>south</td>\n",
       "    </tr>\n",
       "    <tr>\n",
       "      <th>6434</th>\n",
       "      <td>45</td>\n",
       "      <td>2012-10-26</td>\n",
       "      <td>760281.43</td>\n",
       "      <td>0</td>\n",
       "      <td>58.85</td>\n",
       "      <td>3.882</td>\n",
       "      <td>192.308899</td>\n",
       "      <td>8.667</td>\n",
       "      <td>south</td>\n",
       "    </tr>\n",
       "  </tbody>\n",
       "</table>\n",
       "</div>"
      ],
      "text/plain": [
       "      Store        Date  Weekly_Sales  Holiday_Flag  Temperature  Fuel_Price  \\\n",
       "6432     45  2012-10-12     734464.36             0        54.47       4.000   \n",
       "6433     45  2012-10-19     718125.53             0        56.47       3.969   \n",
       "6434     45  2012-10-26     760281.43             0        58.85       3.882   \n",
       "\n",
       "             CPI  Unemployment region  \n",
       "6432  192.327265         8.667  south  \n",
       "6433  192.330854         8.667  south  \n",
       "6434  192.308899         8.667  south  "
      ]
     },
     "execution_count": 11,
     "metadata": {},
     "output_type": "execute_result"
    }
   ],
   "source": [
    "df.tail(3)"
   ]
  },
  {
   "cell_type": "code",
   "execution_count": 12,
   "id": "d6836176-f4c7-40f1-8b95-01effd24a230",
   "metadata": {},
   "outputs": [
    {
     "data": {
      "text/plain": [
       "(region\n",
       " south    1716\n",
       " east     1573\n",
       " west     1573\n",
       " north    1573\n",
       " Name: count, dtype: int64,\n",
       " (6435, 9))"
      ]
     },
     "execution_count": 12,
     "metadata": {},
     "output_type": "execute_result"
    }
   ],
   "source": [
    "df.region.value_counts(), df.shape"
   ]
  },
  {
   "cell_type": "code",
   "execution_count": 14,
   "id": "ab2eff06-c7b9-4a4d-8f69-ce2eafb5dea3",
   "metadata": {},
   "outputs": [],
   "source": [
    "df[df['region']=='south'].to_csv(\"south_data.csv\", index=False)\n"
   ]
  },
  {
   "cell_type": "code",
   "execution_count": 13,
   "id": "a2f9e512-fdb3-4f1f-9b3f-330687ade4a5",
   "metadata": {},
   "outputs": [],
   "source": [
    "## Aggregating Weekly_Sales as per date col:\n",
    "# Define a function to find the mode\n",
    "def mode_func(x):\n",
    "    return x.mode().iloc[0] if not x.mode().empty else None"
   ]
  },
  {
   "cell_type": "code",
   "execution_count": 14,
   "id": "e176ea44-e10f-4bbf-90fd-703bb622f8a2",
   "metadata": {},
   "outputs": [
    {
     "data": {
      "text/plain": [
       "(region\n",
       " east     143\n",
       " north    143\n",
       " south    143\n",
       " west     143\n",
       " Name: count, dtype: int64,\n",
       " (572, 8))"
      ]
     },
     "execution_count": 14,
     "metadata": {},
     "output_type": "execute_result"
    }
   ],
   "source": [
    "## Aggregate the stores\n",
    "df = df.groupby(['region', date_col_name]).agg({'Weekly_Sales':'sum','Holiday_Flag' : mode_func, 'Temperature':'mean', 'Fuel_Price' : 'mean', 'CPI' : 'mean', 'Unemployment' : 'mean'}).reset_index()\n",
    "df.region.value_counts(), df.shape"
   ]
  },
  {
   "cell_type": "code",
   "execution_count": null,
   "id": "31fc9c67-0902-4d9e-a73b-f33f32c5316f",
   "metadata": {},
   "outputs": [],
   "source": []
  },
  {
   "cell_type": "code",
   "execution_count": 15,
   "id": "61c81098",
   "metadata": {},
   "outputs": [],
   "source": [
    "df_filtered = df.copy()"
   ]
  },
  {
   "cell_type": "code",
   "execution_count": 16,
   "id": "08f5e914",
   "metadata": {},
   "outputs": [
    {
     "name": "stdout",
     "output_type": "stream",
     "text": [
      "Filtered Data for given Group\n"
     ]
    },
    {
     "data": {
      "text/html": [
       "<div>\n",
       "<style scoped>\n",
       "    .dataframe tbody tr th:only-of-type {\n",
       "        vertical-align: middle;\n",
       "    }\n",
       "\n",
       "    .dataframe tbody tr th {\n",
       "        vertical-align: top;\n",
       "    }\n",
       "\n",
       "    .dataframe thead th {\n",
       "        text-align: right;\n",
       "    }\n",
       "</style>\n",
       "<table border=\"1\" class=\"dataframe\">\n",
       "  <thead>\n",
       "    <tr style=\"text-align: right;\">\n",
       "      <th></th>\n",
       "      <th>region</th>\n",
       "      <th>Date</th>\n",
       "      <th>Weekly_Sales</th>\n",
       "      <th>Holiday_Flag</th>\n",
       "      <th>Temperature</th>\n",
       "      <th>Fuel_Price</th>\n",
       "      <th>CPI</th>\n",
       "      <th>Unemployment</th>\n",
       "    </tr>\n",
       "  </thead>\n",
       "  <tbody>\n",
       "    <tr>\n",
       "      <th>0</th>\n",
       "      <td>south</td>\n",
       "      <td>2010-02-05</td>\n",
       "      <td>9230159.60</td>\n",
       "      <td>0</td>\n",
       "      <td>37.798333</td>\n",
       "      <td>2.698750</td>\n",
       "      <td>164.710390</td>\n",
       "      <td>9.020833</td>\n",
       "    </tr>\n",
       "    <tr>\n",
       "      <th>1</th>\n",
       "      <td>south</td>\n",
       "      <td>2010-02-12</td>\n",
       "      <td>9004756.02</td>\n",
       "      <td>1</td>\n",
       "      <td>37.777500</td>\n",
       "      <td>2.674167</td>\n",
       "      <td>164.801808</td>\n",
       "      <td>9.020833</td>\n",
       "    </tr>\n",
       "  </tbody>\n",
       "</table>\n",
       "</div>"
      ],
      "text/plain": [
       "  region        Date  Weekly_Sales  Holiday_Flag  Temperature  Fuel_Price  \\\n",
       "0  south  2010-02-05    9230159.60             0    37.798333    2.698750   \n",
       "1  south  2010-02-12    9004756.02             1    37.777500    2.674167   \n",
       "\n",
       "          CPI  Unemployment  \n",
       "0  164.710390      9.020833  \n",
       "1  164.801808      9.020833  "
      ]
     },
     "execution_count": 16,
     "metadata": {},
     "output_type": "execute_result"
    }
   ],
   "source": [
    "if group_cols:\n",
    "    groups_df = df_filtered.groupby(grp_by_cols)\n",
    "    group_df = groups_df.get_group(group)\n",
    "    group_df = group_df.sort_values(date_col_name)\n",
    "    group_df.reset_index(drop=True, inplace=True)\n",
    "    print('Filtered Data for given Group')\n",
    "    df = group_df.copy()\n",
    "\n",
    "df.head(2)"
   ]
  },
  {
   "cell_type": "code",
   "execution_count": 17,
   "id": "300abf5e",
   "metadata": {},
   "outputs": [
    {
     "data": {
      "text/html": [
       "<div>\n",
       "<style scoped>\n",
       "    .dataframe tbody tr th:only-of-type {\n",
       "        vertical-align: middle;\n",
       "    }\n",
       "\n",
       "    .dataframe tbody tr th {\n",
       "        vertical-align: top;\n",
       "    }\n",
       "\n",
       "    .dataframe thead th {\n",
       "        text-align: right;\n",
       "    }\n",
       "</style>\n",
       "<table border=\"1\" class=\"dataframe\">\n",
       "  <thead>\n",
       "    <tr style=\"text-align: right;\">\n",
       "      <th></th>\n",
       "      <th>region</th>\n",
       "      <th>Date</th>\n",
       "      <th>Weekly_Sales</th>\n",
       "      <th>Holiday_Flag</th>\n",
       "      <th>Temperature</th>\n",
       "      <th>Fuel_Price</th>\n",
       "      <th>CPI</th>\n",
       "      <th>Unemployment</th>\n",
       "    </tr>\n",
       "  </thead>\n",
       "  <tbody>\n",
       "    <tr>\n",
       "      <th>141</th>\n",
       "      <td>south</td>\n",
       "      <td>2012-10-19</td>\n",
       "      <td>9090009.14</td>\n",
       "      <td>0</td>\n",
       "      <td>62.634167</td>\n",
       "      <td>3.860750</td>\n",
       "      <td>173.231888</td>\n",
       "      <td>7.199417</td>\n",
       "    </tr>\n",
       "    <tr>\n",
       "      <th>142</th>\n",
       "      <td>south</td>\n",
       "      <td>2012-10-26</td>\n",
       "      <td>9077660.87</td>\n",
       "      <td>0</td>\n",
       "      <td>61.792500</td>\n",
       "      <td>3.770833</td>\n",
       "      <td>173.239492</td>\n",
       "      <td>7.199417</td>\n",
       "    </tr>\n",
       "  </tbody>\n",
       "</table>\n",
       "</div>"
      ],
      "text/plain": [
       "    region        Date  Weekly_Sales  Holiday_Flag  Temperature  Fuel_Price  \\\n",
       "141  south  2012-10-19    9090009.14             0    62.634167    3.860750   \n",
       "142  south  2012-10-26    9077660.87             0    61.792500    3.770833   \n",
       "\n",
       "            CPI  Unemployment  \n",
       "141  173.231888      7.199417  \n",
       "142  173.239492      7.199417  "
      ]
     },
     "execution_count": 17,
     "metadata": {},
     "output_type": "execute_result"
    }
   ],
   "source": [
    "df.tail(2)"
   ]
  },
  {
   "cell_type": "code",
   "execution_count": 20,
   "id": "d729ea37-a1a0-4303-96a7-fb963fe74a22",
   "metadata": {},
   "outputs": [
    {
     "data": {
      "text/plain": [
       "((143, 8), array(['south'], dtype=object))"
      ]
     },
     "execution_count": 20,
     "metadata": {},
     "output_type": "execute_result"
    }
   ],
   "source": [
    "df.shape, df.region.sort_values().unique()"
   ]
  },
  {
   "cell_type": "code",
   "execution_count": 21,
   "id": "aa0f3797",
   "metadata": {},
   "outputs": [
    {
     "data": {
      "text/html": [
       "<div>\n",
       "<style scoped>\n",
       "    .dataframe tbody tr th:only-of-type {\n",
       "        vertical-align: middle;\n",
       "    }\n",
       "\n",
       "    .dataframe tbody tr th {\n",
       "        vertical-align: top;\n",
       "    }\n",
       "\n",
       "    .dataframe thead th {\n",
       "        text-align: right;\n",
       "    }\n",
       "</style>\n",
       "<table border=\"1\" class=\"dataframe\">\n",
       "  <thead>\n",
       "    <tr style=\"text-align: right;\">\n",
       "      <th></th>\n",
       "      <th>Weekly_Sales</th>\n",
       "      <th>Holiday_Flag</th>\n",
       "      <th>Temperature</th>\n",
       "      <th>Fuel_Price</th>\n",
       "      <th>CPI</th>\n",
       "      <th>Unemployment</th>\n",
       "    </tr>\n",
       "  </thead>\n",
       "  <tbody>\n",
       "    <tr>\n",
       "      <th>count</th>\n",
       "      <td>1.430000e+02</td>\n",
       "      <td>143.000000</td>\n",
       "      <td>143.000000</td>\n",
       "      <td>143.000000</td>\n",
       "      <td>143.000000</td>\n",
       "      <td>143.000000</td>\n",
       "    </tr>\n",
       "    <tr>\n",
       "      <th>mean</th>\n",
       "      <td>9.126031e+06</td>\n",
       "      <td>0.069930</td>\n",
       "      <td>62.306643</td>\n",
       "      <td>3.338940</td>\n",
       "      <td>168.391238</td>\n",
       "      <td>8.408212</td>\n",
       "    </tr>\n",
       "    <tr>\n",
       "      <th>std</th>\n",
       "      <td>8.922584e+05</td>\n",
       "      <td>0.255926</td>\n",
       "      <td>14.657940</td>\n",
       "      <td>0.426890</td>\n",
       "      <td>2.988717</td>\n",
       "      <td>0.542224</td>\n",
       "    </tr>\n",
       "    <tr>\n",
       "      <th>min</th>\n",
       "      <td>7.529901e+06</td>\n",
       "      <td>0.000000</td>\n",
       "      <td>32.916667</td>\n",
       "      <td>2.652083</td>\n",
       "      <td>164.489544</td>\n",
       "      <td>7.199417</td>\n",
       "    </tr>\n",
       "    <tr>\n",
       "      <th>25%</th>\n",
       "      <td>8.751137e+06</td>\n",
       "      <td>0.000000</td>\n",
       "      <td>49.275000</td>\n",
       "      <td>2.865458</td>\n",
       "      <td>165.295823</td>\n",
       "      <td>7.880167</td>\n",
       "    </tr>\n",
       "    <tr>\n",
       "      <th>50%</th>\n",
       "      <td>9.030037e+06</td>\n",
       "      <td>0.000000</td>\n",
       "      <td>62.894167</td>\n",
       "      <td>3.463750</td>\n",
       "      <td>168.249941</td>\n",
       "      <td>8.662167</td>\n",
       "    </tr>\n",
       "    <tr>\n",
       "      <th>75%</th>\n",
       "      <td>9.312033e+06</td>\n",
       "      <td>0.000000</td>\n",
       "      <td>76.467083</td>\n",
       "      <td>3.699917</td>\n",
       "      <td>171.426180</td>\n",
       "      <td>8.846667</td>\n",
       "    </tr>\n",
       "    <tr>\n",
       "      <th>max</th>\n",
       "      <td>1.439700e+07</td>\n",
       "      <td>1.000000</td>\n",
       "      <td>82.572500</td>\n",
       "      <td>3.985667</td>\n",
       "      <td>173.239492</td>\n",
       "      <td>9.020833</td>\n",
       "    </tr>\n",
       "  </tbody>\n",
       "</table>\n",
       "</div>"
      ],
      "text/plain": [
       "       Weekly_Sales  Holiday_Flag  Temperature  Fuel_Price         CPI  \\\n",
       "count  1.430000e+02    143.000000   143.000000  143.000000  143.000000   \n",
       "mean   9.126031e+06      0.069930    62.306643    3.338940  168.391238   \n",
       "std    8.922584e+05      0.255926    14.657940    0.426890    2.988717   \n",
       "min    7.529901e+06      0.000000    32.916667    2.652083  164.489544   \n",
       "25%    8.751137e+06      0.000000    49.275000    2.865458  165.295823   \n",
       "50%    9.030037e+06      0.000000    62.894167    3.463750  168.249941   \n",
       "75%    9.312033e+06      0.000000    76.467083    3.699917  171.426180   \n",
       "max    1.439700e+07      1.000000    82.572500    3.985667  173.239492   \n",
       "\n",
       "       Unemployment  \n",
       "count    143.000000  \n",
       "mean       8.408212  \n",
       "std        0.542224  \n",
       "min        7.199417  \n",
       "25%        7.880167  \n",
       "50%        8.662167  \n",
       "75%        8.846667  \n",
       "max        9.020833  "
      ]
     },
     "execution_count": 21,
     "metadata": {},
     "output_type": "execute_result"
    }
   ],
   "source": [
    "df.describe()"
   ]
  },
  {
   "cell_type": "code",
   "execution_count": 22,
   "id": "554dd6af",
   "metadata": {},
   "outputs": [
    {
     "data": {
      "text/plain": [
       "min    2010-02-05\n",
       "max    2012-10-26\n",
       "Name: Date, dtype: object"
      ]
     },
     "execution_count": 22,
     "metadata": {},
     "output_type": "execute_result"
    }
   ],
   "source": [
    "## Date column\n",
    "df[date_col_name].agg(['min', 'max'])"
   ]
  },
  {
   "cell_type": "code",
   "execution_count": 23,
   "id": "b56817bb-5ecb-4eae-9159-8af83e31fb6d",
   "metadata": {
    "scrolled": true
   },
   "outputs": [
    {
     "data": {
      "text/plain": [
       "False    143\n",
       "Name: count, dtype: int64"
      ]
     },
     "execution_count": 23,
     "metadata": {},
     "output_type": "execute_result"
    }
   ],
   "source": [
    "df.duplicated(subset=['region',date_col_name]).value_counts()"
   ]
  },
  {
   "cell_type": "code",
   "execution_count": 24,
   "id": "8f179f7c-f18c-4da1-9406-9bcee82c7fd7",
   "metadata": {},
   "outputs": [
    {
     "name": "stdout",
     "output_type": "stream",
     "text": [
      "    region        Date  Weekly_Sales  Holiday_Flag  Temperature  Fuel_Price  \\\n",
      "0    south  2010-02-05    9230159.60             0    37.798333    2.698750   \n",
      "1    south  2010-02-12    9004756.02             1    37.777500    2.674167   \n",
      "2    south  2010-02-19    9038451.83             0    40.570000    2.652083   \n",
      "3    south  2010-02-26    8371391.11             0    41.384167    2.663083   \n",
      "4    south  2010-03-05    9048710.00             0    45.161667    2.715667   \n",
      "..     ...         ...           ...           ...          ...         ...   \n",
      "138  south  2012-09-28    8815211.56             0    70.585833    3.823167   \n",
      "139  south  2012-10-05    9467004.87             0    68.309167    3.814250   \n",
      "140  south  2012-10-12    9272120.20             0    61.915833    3.875333   \n",
      "141  south  2012-10-19    9090009.14             0    62.634167    3.860750   \n",
      "142  south  2012-10-26    9077660.87             0    61.792500    3.770833   \n",
      "\n",
      "            CPI  Unemployment  \n",
      "0    164.710390      9.020833  \n",
      "1    164.801808      9.020833  \n",
      "2    164.846674      9.020833  \n",
      "3    164.883781      9.020833  \n",
      "4    164.920888      9.020833  \n",
      "..          ...           ...  \n",
      "138  172.962765      7.504417  \n",
      "139  173.085315      7.199417  \n",
      "140  173.207864      7.199417  \n",
      "141  173.231888      7.199417  \n",
      "142  173.239492      7.199417  \n",
      "\n",
      "[143 rows x 8 columns]\n"
     ]
    }
   ],
   "source": [
    "    \n",
    "# # Group by columns 'r' and 'date', aggregate column 'a'\n",
    "# df2 = df.groupby(['region', date_col_name]).agg({'Weekly_Sales':'sum','Holiday_Flag' : mode_func, 'Temperature':'mean', 'Fuel_Price' : 'mean', 'CPI' : 'mean', 'Unemployment' : 'mean'}).reset_index()\n",
    "\n",
    "# print(df2)"
   ]
  },
  {
   "cell_type": "code",
   "execution_count": 25,
   "id": "3604105f-b84f-491b-8af6-29e2847198ff",
   "metadata": {},
   "outputs": [
    {
     "data": {
      "text/plain": [
       "((143, 8), (143, 8))"
      ]
     },
     "execution_count": 25,
     "metadata": {},
     "output_type": "execute_result"
    }
   ],
   "source": [
    "# df.shape, df2.shape"
   ]
  },
  {
   "cell_type": "code",
   "execution_count": 23,
   "id": "1cc013be-83a6-4387-bcc0-73b785deed5e",
   "metadata": {},
   "outputs": [],
   "source": [
    "# df = df2"
   ]
  },
  {
   "cell_type": "code",
   "execution_count": 26,
   "id": "bf9409ec-9f83-41ef-abc7-b2aac0d5db01",
   "metadata": {},
   "outputs": [
    {
     "data": {
      "text/plain": [
       "region\n",
       "south    143\n",
       "Name: count, dtype: int64"
      ]
     },
     "execution_count": 26,
     "metadata": {},
     "output_type": "execute_result"
    }
   ],
   "source": [
    "df.region.value_counts()"
   ]
  },
  {
   "cell_type": "code",
   "execution_count": 27,
   "id": "35000020",
   "metadata": {
    "scrolled": true
   },
   "outputs": [],
   "source": [
    "## Date imputation\n",
    "data_ = list(df[target_col_name])\n",
    "dates = list(df[date_col_name])\n",
    "data = pd.DataFrame(data_, index=dates, columns = [target_col_name])\n",
    "data.index = pd.to_datetime(data.index)\n",
    "data = data.asfreq('W-FRI').interpolate(method='linear') ## interpolate into days, adding missing dates inbetween weeks\n",
    "data = data.sort_index()"
   ]
  },
  {
   "cell_type": "code",
   "execution_count": 28,
   "id": "e650ac5d-7714-4cba-9a29-74b9e94d36d5",
   "metadata": {
    "scrolled": true
   },
   "outputs": [
    {
     "data": {
      "text/html": [
       "<div>\n",
       "<style scoped>\n",
       "    .dataframe tbody tr th:only-of-type {\n",
       "        vertical-align: middle;\n",
       "    }\n",
       "\n",
       "    .dataframe tbody tr th {\n",
       "        vertical-align: top;\n",
       "    }\n",
       "\n",
       "    .dataframe thead th {\n",
       "        text-align: right;\n",
       "    }\n",
       "</style>\n",
       "<table border=\"1\" class=\"dataframe\">\n",
       "  <thead>\n",
       "    <tr style=\"text-align: right;\">\n",
       "      <th></th>\n",
       "      <th>Weekly_Sales</th>\n",
       "    </tr>\n",
       "  </thead>\n",
       "  <tbody>\n",
       "    <tr>\n",
       "      <th>2010-02-05</th>\n",
       "      <td>9230159.60</td>\n",
       "    </tr>\n",
       "    <tr>\n",
       "      <th>2010-02-12</th>\n",
       "      <td>9004756.02</td>\n",
       "    </tr>\n",
       "    <tr>\n",
       "      <th>2010-02-19</th>\n",
       "      <td>9038451.83</td>\n",
       "    </tr>\n",
       "    <tr>\n",
       "      <th>2010-02-26</th>\n",
       "      <td>8371391.11</td>\n",
       "    </tr>\n",
       "    <tr>\n",
       "      <th>2010-03-05</th>\n",
       "      <td>9048710.00</td>\n",
       "    </tr>\n",
       "    <tr>\n",
       "      <th>...</th>\n",
       "      <td>...</td>\n",
       "    </tr>\n",
       "    <tr>\n",
       "      <th>2012-09-28</th>\n",
       "      <td>8815211.56</td>\n",
       "    </tr>\n",
       "    <tr>\n",
       "      <th>2012-10-05</th>\n",
       "      <td>9467004.87</td>\n",
       "    </tr>\n",
       "    <tr>\n",
       "      <th>2012-10-12</th>\n",
       "      <td>9272120.20</td>\n",
       "    </tr>\n",
       "    <tr>\n",
       "      <th>2012-10-19</th>\n",
       "      <td>9090009.14</td>\n",
       "    </tr>\n",
       "    <tr>\n",
       "      <th>2012-10-26</th>\n",
       "      <td>9077660.87</td>\n",
       "    </tr>\n",
       "  </tbody>\n",
       "</table>\n",
       "<p>143 rows × 1 columns</p>\n",
       "</div>"
      ],
      "text/plain": [
       "            Weekly_Sales\n",
       "2010-02-05    9230159.60\n",
       "2010-02-12    9004756.02\n",
       "2010-02-19    9038451.83\n",
       "2010-02-26    8371391.11\n",
       "2010-03-05    9048710.00\n",
       "...                  ...\n",
       "2012-09-28    8815211.56\n",
       "2012-10-05    9467004.87\n",
       "2012-10-12    9272120.20\n",
       "2012-10-19    9090009.14\n",
       "2012-10-26    9077660.87\n",
       "\n",
       "[143 rows x 1 columns]"
      ]
     },
     "execution_count": 28,
     "metadata": {},
     "output_type": "execute_result"
    }
   ],
   "source": [
    "data"
   ]
  },
  {
   "cell_type": "code",
   "execution_count": 25,
   "id": "1ef319f0-30ff-443e-99b4-5f4e2ff1a14c",
   "metadata": {},
   "outputs": [
    {
     "data": {
      "text/plain": [
       "(995, 1)"
      ]
     },
     "execution_count": 25,
     "metadata": {},
     "output_type": "execute_result"
    }
   ],
   "source": [
    "# ## Date imputation\n",
    "# data_ = list(df[target_col_name])\n",
    "# dates = list(df[date_col_name])\n",
    "# data = pd.DataFrame(data_, index=dates, columns = [target_col_name])\n",
    "# data.index = pd.to_datetime(data.index)\n",
    "# data = data.asfreq('D').interpolate(method='linear')\n",
    "# # data = data.sort_index()\n",
    "# data.shape"
   ]
  },
  {
   "cell_type": "code",
   "execution_count": 29,
   "id": "cef7b430-90ca-4dd7-84ad-abfff939f339",
   "metadata": {},
   "outputs": [
    {
     "data": {
      "text/plain": [
       "(            Weekly_Sales\n",
       " 2010-02-05    9230159.60\n",
       " 2010-02-12    9004756.02\n",
       " 2010-02-19    9038451.83\n",
       " 2010-02-26    8371391.11\n",
       " 2010-03-05    9048710.00\n",
       " ...                  ...\n",
       " 2012-09-28    8815211.56\n",
       " 2012-10-05    9467004.87\n",
       " 2012-10-12    9272120.20\n",
       " 2012-10-19    9090009.14\n",
       " 2012-10-26    9077660.87\n",
       " \n",
       " [143 rows x 1 columns],\n",
       " (143, 8))"
      ]
     },
     "execution_count": 29,
     "metadata": {},
     "output_type": "execute_result"
    }
   ],
   "source": [
    "data, df.shape"
   ]
  },
  {
   "cell_type": "markdown",
   "id": "2e85e1a7",
   "metadata": {},
   "source": [
    "## DATA FILTER"
   ]
  },
  {
   "cell_type": "code",
   "execution_count": 30,
   "id": "20bccac8",
   "metadata": {},
   "outputs": [
    {
     "name": "stdout",
     "output_type": "stream",
     "text": [
      "            Weekly_Sales\n",
      "2010-02-12    9004756.02\n",
      "2010-02-19    9038451.83\n",
      "            Weekly_Sales\n",
      "2012-10-12    9272120.20\n",
      "2012-10-19    9090009.14\n"
     ]
    }
   ],
   "source": [
    "date_range_start = '2010-02-05'\n",
    "date_range_end = '2012-10-26'\n",
    "\n",
    "data2 = data[(data.index > date_range_start) & (data.index < date_range_end)]\n",
    "print(data2.head(2))\n",
    "print( data2.tail(2))"
   ]
  },
  {
   "cell_type": "markdown",
   "id": "8289abff",
   "metadata": {},
   "source": [
    "# EDA"
   ]
  },
  {
   "cell_type": "code",
   "execution_count": 34,
   "id": "7cab8613",
   "metadata": {},
   "outputs": [
    {
     "data": {
      "text/plain": [
       "<matplotlib.legend.Legend at 0x259c5ef5690>"
      ]
     },
     "execution_count": 34,
     "metadata": {},
     "output_type": "execute_result"
    },
    {
     "data": {
      "image/png": "[encoded data removed]",
      "text/plain": [
       "<Figure size 1200x400 with 1 Axes>"
      ]
     },
     "metadata": {},
     "output_type": "display_data"
    }
   ],
   "source": [
    "region = 'south'\n",
    "plt.figure(figsize=(12,4), tight_layout=True)\n",
    "sns.lineplot(data=data2)\n",
    "plt.title(target_plot_label + \" For Store \" + str(region).upper())\n",
    "plt.axhline(y=np.mean(data2[target_col_name]), color='r', linestyle='-',   label='Mean Value') \n",
    "plt.legend(loc=\"upper right\")"
   ]
  },
  {
   "cell_type": "code",
   "execution_count": 38,
   "id": "ded7e87b",
   "metadata": {},
   "outputs": [],
   "source": [
    "df.to_csv(\"south_data.csv\", index=False)\n"
   ]
  },
  {
   "cell_type": "code",
   "execution_count": null,
   "id": "5321b071-cf5e-42b5-b98a-99a563877337",
   "metadata": {},
   "outputs": [],
   "source": []
  },
  {
   "cell_type": "code",
   "execution_count": null,
   "id": "f56ead6a-9f2b-4746-b26f-e3591170be88",
   "metadata": {},
   "outputs": [],
   "source": []
  },
  {
   "cell_type": "code",
   "execution_count": null,
   "id": "b84ef7cb-ee71-4ba1-a6f1-b73416ae12ea",
   "metadata": {},
   "outputs": [],
   "source": []
  },
  {
   "cell_type": "markdown",
   "id": "87705e7d",
   "metadata": {},
   "source": [
    "## Select the year to Analyze"
   ]
  },
  {
   "cell_type": "code",
   "execution_count": 33,
   "id": "a13122c8",
   "metadata": {},
   "outputs": [],
   "source": [
    "year = 2010"
   ]
  },
  {
   "cell_type": "markdown",
   "id": "0d315f2b",
   "metadata": {},
   "source": [
    "## Weekday Analysis"
   ]
  },
  {
   "cell_type": "code",
   "execution_count": 23,
   "id": "cd561613",
   "metadata": {},
   "outputs": [
    {
     "data": {
      "image/png": "[encoded data removed]",
      "text/plain": [
       "<Figure size 1000x500 with 1 Axes>"
      ]
     },
     "metadata": {},
     "output_type": "display_data"
    }
   ],
   "source": [
    "weekday_dict = {'Monday':1,'Tuesday':2,'Wednesday':3, 'Thursday':4, 'Friday':5, 'Saturday':6, 'Sunday':7}\n",
    "data2_= data.reset_index()\n",
    "data2_['year'] = data2_['index'].dt.year\n",
    "data2_['month'] = data2_['index'].dt.strftime('%B')\n",
    "data2_['weekday'] = data2_['index'].dt.day_name()\n",
    "\n",
    "data_yr = data2_[data2_['year']==year]\n",
    "\n",
    "data_yr.sort_values('weekday', key = lambda x : x.apply (lambda x : weekday_dict[x]) , inplace=True)\n",
    "\n",
    "plt.figure(figsize=(10,5), tight_layout=True)\n",
    "ax = sns.boxplot(data=data_yr, x='weekday', y=target_col_name, palette='Set2', linewidth=2.5)\n",
    "ax.set(title='Weekday Analysis - Boxplot to detect Outliers', xlabel='Day of the Week', ylabel= target_plot_label)\n",
    "\n",
    "plt.grid()\n",
    "plt.show()"
   ]
  },
  {
   "cell_type": "code",
   "execution_count": 24,
   "id": "4084ead2",
   "metadata": {},
   "outputs": [
    {
     "name": "stdout",
     "output_type": "stream",
     "text": [
      "Start date in Selected yr :  2010-02-05 00:00:00\n",
      "End date in Selected yr :  2010-12-31 00:00:00\n"
     ]
    }
   ],
   "source": [
    "print('Start date in Selected yr : ' , data_yr['index'].min())\n",
    "print('End date in Selected yr : ' ,data_yr['index'].max())"
   ]
  },
  {
   "cell_type": "markdown",
   "id": "d19e151a",
   "metadata": {},
   "source": [
    "### Weekday Indepth Analysis"
   ]
  },
  {
   "cell_type": "code",
   "execution_count": 25,
   "id": "19baad14",
   "metadata": {},
   "outputs": [
    {
     "data": {
      "text/html": [
       "<div>\n",
       "<style scoped>\n",
       "    .dataframe tbody tr th:only-of-type {\n",
       "        vertical-align: middle;\n",
       "    }\n",
       "\n",
       "    .dataframe tbody tr th {\n",
       "        vertical-align: top;\n",
       "    }\n",
       "\n",
       "    .dataframe thead th {\n",
       "        text-align: right;\n",
       "    }\n",
       "</style>\n",
       "<table border=\"1\" class=\"dataframe\">\n",
       "  <thead>\n",
       "    <tr style=\"text-align: right;\">\n",
       "      <th></th>\n",
       "      <th>index</th>\n",
       "      <th>Weekly_Sales</th>\n",
       "      <th>year</th>\n",
       "      <th>month</th>\n",
       "      <th>weekday</th>\n",
       "      <th>wn</th>\n",
       "    </tr>\n",
       "  </thead>\n",
       "  <tbody>\n",
       "    <tr>\n",
       "      <th>164</th>\n",
       "      <td>2010-07-19</td>\n",
       "      <td>1.421564e+06</td>\n",
       "      <td>2010</td>\n",
       "      <td>July</td>\n",
       "      <td>Monday</td>\n",
       "      <td>29</td>\n",
       "    </tr>\n",
       "    <tr>\n",
       "      <th>108</th>\n",
       "      <td>2010-05-24</td>\n",
       "      <td>1.413551e+06</td>\n",
       "      <td>2010</td>\n",
       "      <td>May</td>\n",
       "      <td>Monday</td>\n",
       "      <td>21</td>\n",
       "    </tr>\n",
       "  </tbody>\n",
       "</table>\n",
       "</div>"
      ],
      "text/plain": [
       "         index  Weekly_Sales  year month weekday  wn\n",
       "164 2010-07-19  1.421564e+06  2010  July  Monday  29\n",
       "108 2010-05-24  1.413551e+06  2010   May  Monday  21"
      ]
     },
     "execution_count": 25,
     "metadata": {},
     "output_type": "execute_result"
    }
   ],
   "source": [
    "data_yr['wn'] = data_yr['index'].dt.isocalendar().week\n",
    "data_yr.head(2)"
   ]
  },
  {
   "cell_type": "code",
   "execution_count": 25,
   "id": "fd1f054f",
   "metadata": {},
   "outputs": [],
   "source": [
    "data_yr_p = data_yr.groupby(['weekday', 'wn'], as_index=False)[target_col_name].mean()\n",
    "data_yr_p[target_col_name] = data_yr_p[target_col_name].astype(float)\n",
    "data_yr_p.sort_values('wn', inplace=True)\n",
    "data_yr_p = data_yr_p.pivot(index='weekday', columns='wn' ,values=target_col_name).T\n",
    "data_yr_p.reset_index(inplace=True)\n",
    "data_yr_p = data_yr_p.set_index('wn')"
   ]
  },
  {
   "cell_type": "code",
   "execution_count": 29,
   "id": "1ddf327c",
   "metadata": {
    "scrolled": true
   },
   "outputs": [
    {
     "data": {
      "application/vnd.plotly.v1+json": {
       "config": {
        "plotlyServerURL": "https://plot.ly"
       },
       "data": [
        {
         "line": {
          "color": "#F22727"
         },
         "name": "Mon",
         "type": "scatter",
         "x": [
          30,
          31,
          32,
          33,
          34,
          35,
          36,
          37,
          38,
          39,
          40,
          41,
          42,
          43,
          44,
          45,
          46,
          47,
          48,
          49,
          50,
          51,
          52
         ],
         "y": [
          null,
          0.4,
          0.7,
          0.8,
          1.1,
          1.2,
          1.2,
          1.5,
          1.5,
          1.4,
          1.6,
          1.7,
          1.7,
          0.9,
          0.8,
          1.3,
          1.4,
          1.3,
          1.1,
          1.2,
          1.2,
          0.9,
          0.7
         ]
        },
        {
         "line": {
          "color": "#F22727",
          "dash": "dash"
         },
         "name": "Mon Average",
         "type": "scatter",
         "visible": false,
         "x": [
          30,
          31,
          32,
          33,
          34,
          35,
          36,
          37,
          38,
          39,
          40,
          41,
          42,
          43,
          44,
          45,
          46,
          47,
          48,
          49,
          50,
          51,
          52
         ],
         "y": [
          1.1636363636363634,
          1.1636363636363634,
          1.1636363636363634,
          1.1636363636363634,
          1.1636363636363634,
          1.1636363636363634,
          1.1636363636363634,
          1.1636363636363634,
          1.1636363636363634,
          1.1636363636363634,
          1.1636363636363634,
          1.1636363636363634,
          1.1636363636363634,
          1.1636363636363634,
          1.1636363636363634,
          1.1636363636363634,
          1.1636363636363634,
          1.1636363636363634,
          1.1636363636363634,
          1.1636363636363634,
          1.1636363636363634,
          1.1636363636363634,
          1.1636363636363634
         ]
        },
        {
         "line": {
          "color": "#CACF33"
         },
         "name": "Tue",
         "type": "scatter",
         "x": [
          30,
          31,
          32,
          33,
          34,
          35,
          36,
          37,
          38,
          39,
          40,
          41,
          42,
          43,
          44,
          45,
          46,
          47,
          48,
          49,
          50,
          51,
          52
         ],
         "y": [
          0.5,
          0.4,
          0.7,
          0.8,
          1.1,
          1.2,
          1.2,
          1.4,
          1.5,
          1.4,
          1.6,
          1.7,
          0.9,
          0.9,
          0.9,
          1.4,
          1.4,
          1.4,
          1.1,
          1.2,
          0.9,
          0.9,
          0.7
         ]
        },
        {
         "line": {
          "color": "#CACF33",
          "dash": "dash"
         },
         "name": "Tue Average",
         "type": "scatter",
         "visible": false,
         "x": [
          30,
          31,
          32,
          33,
          34,
          35,
          36,
          37,
          38,
          39,
          40,
          41,
          42,
          43,
          44,
          45,
          46,
          47,
          48,
          49,
          50,
          51,
          52
         ],
         "y": [
          1.0956521739130434,
          1.0956521739130434,
          1.0956521739130434,
          1.0956521739130434,
          1.0956521739130434,
          1.0956521739130434,
          1.0956521739130434,
          1.0956521739130434,
          1.0956521739130434,
          1.0956521739130434,
          1.0956521739130434,
          1.0956521739130434,
          1.0956521739130434,
          1.0956521739130434,
          1.0956521739130434,
          1.0956521739130434,
          1.0956521739130434,
          1.0956521739130434,
          1.0956521739130434,
          1.0956521739130434,
          1.0956521739130434,
          1.0956521739130434,
          1.0956521739130434
         ]
        },
        {
         "line": {
          "color": "#33CFA5"
         },
         "name": "Wed",
         "type": "scatter",
         "x": [
          30,
          31,
          32,
          33,
          34,
          35,
          36,
          37,
          38,
          39,
          40,
          41,
          42,
          43,
          44,
          45,
          46,
          47,
          48,
          49,
          50,
          51,
          52
         ],
         "y": [
          0.5,
          0.5,
          0.8,
          0.8,
          1.1,
          1.2,
          1.2,
          1.5,
          1.5,
          1.5,
          1.6,
          1.7,
          1,
          0.9,
          1.1,
          1.3,
          1.4,
          1.3,
          1,
          1.2,
          0.9,
          0.9,
          0.6
         ]
        },
        {
         "line": {
          "color": "#33CFA5",
          "dash": "dash"
         },
         "name": "Wed Average",
         "type": "scatter",
         "visible": false,
         "x": [
          30,
          31,
          32,
          33,
          34,
          35,
          36,
          37,
          38,
          39,
          40,
          41,
          42,
          43,
          44,
          45,
          46,
          47,
          48,
          49,
          50,
          51,
          52
         ],
         "y": [
          1.108695652173913,
          1.108695652173913,
          1.108695652173913,
          1.108695652173913,
          1.108695652173913,
          1.108695652173913,
          1.108695652173913,
          1.108695652173913,
          1.108695652173913,
          1.108695652173913,
          1.108695652173913,
          1.108695652173913,
          1.108695652173913,
          1.108695652173913,
          1.108695652173913,
          1.108695652173913,
          1.108695652173913,
          1.108695652173913,
          1.108695652173913,
          1.108695652173913,
          1.108695652173913,
          1.108695652173913,
          1.108695652173913
         ]
        },
        {
         "line": {
          "color": "#27E4F2"
         },
         "name": "Thu",
         "type": "scatter",
         "x": [
          30,
          31,
          32,
          33,
          34,
          35,
          36,
          37,
          38,
          39,
          40,
          41,
          42,
          43,
          44,
          45,
          46,
          47,
          48,
          49,
          50,
          51,
          52
         ],
         "y": [
          0.5,
          0.5,
          0.7,
          0.9,
          1.1,
          1.2,
          1.3,
          1.5,
          1.5,
          1.6,
          1.6,
          1.7,
          0.9,
          0.8,
          1.1,
          1.3,
          1.4,
          1.2,
          1,
          1.1,
          0.9,
          0.8,
          0.6
         ]
        },
        {
         "line": {
          "color": "#27E4F2",
          "dash": "dash"
         },
         "name": "Thu Average",
         "type": "scatter",
         "visible": false,
         "x": [
          30,
          31,
          32,
          33,
          34,
          35,
          36,
          37,
          38,
          39,
          40,
          41,
          42,
          43,
          44,
          45,
          46,
          47,
          48,
          49,
          50,
          51,
          52
         ],
         "y": [
          1.0956521739130434,
          1.0956521739130434,
          1.0956521739130434,
          1.0956521739130434,
          1.0956521739130434,
          1.0956521739130434,
          1.0956521739130434,
          1.0956521739130434,
          1.0956521739130434,
          1.0956521739130434,
          1.0956521739130434,
          1.0956521739130434,
          1.0956521739130434,
          1.0956521739130434,
          1.0956521739130434,
          1.0956521739130434,
          1.0956521739130434,
          1.0956521739130434,
          1.0956521739130434,
          1.0956521739130434,
          1.0956521739130434,
          1.0956521739130434,
          1.0956521739130434
         ]
        },
        {
         "line": {
          "color": "#9ECF33"
         },
         "name": "Fri",
         "type": "scatter",
         "x": [
          30,
          31,
          32,
          33,
          34,
          35,
          36,
          37,
          38,
          39,
          40,
          41,
          42,
          43,
          44,
          45,
          46,
          47,
          48,
          49,
          50,
          51,
          52
         ],
         "y": [
          0.5,
          0.6,
          0.7,
          1,
          1.1,
          1.1,
          1.3,
          1.5,
          1.5,
          1.7,
          1.6,
          1.7,
          0.9,
          0.8,
          1.1,
          1.3,
          1.3,
          1.1,
          1,
          1.1,
          0.9,
          0.8,
          0.6
         ]
        },
        {
         "line": {
          "color": "#9ECF33",
          "dash": "dash"
         },
         "name": "Fri Average",
         "type": "scatter",
         "visible": false,
         "x": [
          30,
          31,
          32,
          33,
          34,
          35,
          36,
          37,
          38,
          39,
          40,
          41,
          42,
          43,
          44,
          45,
          46,
          47,
          48,
          49,
          50,
          51,
          52
         ],
         "y": [
          1.0956521739130438,
          1.0956521739130438,
          1.0956521739130438,
          1.0956521739130438,
          1.0956521739130438,
          1.0956521739130438,
          1.0956521739130438,
          1.0956521739130438,
          1.0956521739130438,
          1.0956521739130438,
          1.0956521739130438,
          1.0956521739130438,
          1.0956521739130438,
          1.0956521739130438,
          1.0956521739130438,
          1.0956521739130438,
          1.0956521739130438,
          1.0956521739130438,
          1.0956521739130438,
          1.0956521739130438,
          1.0956521739130438,
          1.0956521739130438,
          1.0956521739130438
         ]
        },
        {
         "line": {
          "color": "#CCCF33"
         },
         "name": "Sat",
         "type": "scatter",
         "x": [
          30,
          31,
          32,
          33,
          34,
          35,
          36,
          37,
          38,
          39,
          40,
          41,
          42,
          43,
          44,
          45,
          46,
          47,
          48,
          49,
          50,
          51,
          52
         ],
         "y": [
          0.4,
          0.6,
          0.8,
          1,
          1.1,
          1.1,
          1.4,
          1.5,
          1.5,
          1.6,
          1.6,
          1.7,
          0.9,
          0.8,
          1.3,
          1.4,
          1.3,
          1.1,
          1.2,
          1.2,
          0.9,
          0.7,
          0.7
         ]
        },
        {
         "line": {
          "color": "#CCCF33",
          "dash": "dash"
         },
         "name": "Sat Average",
         "type": "scatter",
         "visible": false,
         "x": [
          30,
          31,
          32,
          33,
          34,
          35,
          36,
          37,
          38,
          39,
          40,
          41,
          42,
          43,
          44,
          45,
          46,
          47,
          48,
          49,
          50,
          51,
          52
         ],
         "y": [
          1.1217391304347826,
          1.1217391304347826,
          1.1217391304347826,
          1.1217391304347826,
          1.1217391304347826,
          1.1217391304347826,
          1.1217391304347826,
          1.1217391304347826,
          1.1217391304347826,
          1.1217391304347826,
          1.1217391304347826,
          1.1217391304347826,
          1.1217391304347826,
          1.1217391304347826,
          1.1217391304347826,
          1.1217391304347826,
          1.1217391304347826,
          1.1217391304347826,
          1.1217391304347826,
          1.1217391304347826,
          1.1217391304347826,
          1.1217391304347826,
          1.1217391304347826
         ]
        },
        {
         "line": {
          "color": "#CF9833"
         },
         "name": "Sun",
         "type": "scatter",
         "x": [
          30,
          31,
          32,
          33,
          34,
          35,
          36,
          37,
          38,
          39,
          40,
          41,
          42,
          43,
          44,
          45,
          46,
          47,
          48,
          49,
          50,
          51,
          52
         ],
         "y": [
          0.4,
          0.7,
          0.8,
          1.1,
          1.2,
          1.2,
          1.5,
          1.5,
          1.4,
          1.6,
          1.7,
          1.7,
          0.9,
          0.8,
          1.3,
          1.4,
          1.3,
          1.1,
          1.2,
          1.2,
          0.9,
          0.7,
          null
         ]
        },
        {
         "line": {
          "color": "#CF9833",
          "dash": "dash"
         },
         "name": "Sun Average",
         "type": "scatter",
         "visible": false,
         "x": [
          30,
          31,
          32,
          33,
          34,
          35,
          36,
          37,
          38,
          39,
          40,
          41,
          42,
          43,
          44,
          45,
          46,
          47,
          48,
          49,
          50,
          51,
          52
         ],
         "y": [
          1.1636363636363634,
          1.1636363636363634,
          1.1636363636363634,
          1.1636363636363634,
          1.1636363636363634,
          1.1636363636363634,
          1.1636363636363634,
          1.1636363636363634,
          1.1636363636363634,
          1.1636363636363634,
          1.1636363636363634,
          1.1636363636363634,
          1.1636363636363634,
          1.1636363636363634,
          1.1636363636363634,
          1.1636363636363634,
          1.1636363636363634,
          1.1636363636363634,
          1.1636363636363634,
          1.1636363636363634,
          1.1636363636363634,
          1.1636363636363634,
          1.1636363636363634
         ]
        }
       ],
       "layout": {
        "template": {
         "data": {
          "bar": [
           {
            "error_x": {
             "color": "#2a3f5f"
            },
            "error_y": {
             "color": "#2a3f5f"
            },
            "marker": {
             "line": {
              "color": "#E5ECF6",
              "width": 0.5
             },
             "pattern": {
              "fillmode": "overlay",
              "size": 10,
              "solidity": 0.2
             }
            },
            "type": "bar"
           }
          ],
          "barpolar": [
           {
            "marker": {
             "line": {
              "color": "#E5ECF6",
              "width": 0.5
             },
             "pattern": {
              "fillmode": "overlay",
              "size": 10,
              "solidity": 0.2
             }
            },
            "type": "barpolar"
           }
          ],
          "carpet": [
           {
            "aaxis": {
             "endlinecolor": "#2a3f5f",
             "gridcolor": "white",
             "linecolor": "white",
             "minorgridcolor": "white",
             "startlinecolor": "#2a3f5f"
            },
            "baxis": {
             "endlinecolor": "#2a3f5f",
             "gridcolor": "white",
             "linecolor": "white",
             "minorgridcolor": "white",
             "startlinecolor": "#2a3f5f"
            },
            "type": "carpet"
           }
          ],
          "choropleth": [
           {
            "colorbar": {
             "outlinewidth": 0,
             "ticks": ""
            },
            "type": "choropleth"
           }
          ],
          "contour": [
           {
            "colorbar": {
             "outlinewidth": 0,
             "ticks": ""
            },
            "colorscale": [
             [
              0,
              "#0d0887"
             ],
             [
              0.1111111111111111,
              "#46039f"
             ],
             [
              0.2222222222222222,
              "#7201a8"
             ],
             [
              0.3333333333333333,
              "#9c179e"
             ],
             [
              0.4444444444444444,
              "#bd3786"
             ],
             [
              0.5555555555555556,
              "#d8576b"
             ],
             [
              0.6666666666666666,
              "#ed7953"
             ],
             [
              0.7777777777777778,
              "#fb9f3a"
             ],
             [
              0.8888888888888888,
              "#fdca26"
             ],
             [
              1,
              "#f0f921"
             ]
            ],
            "type": "contour"
           }
          ],
          "contourcarpet": [
           {
            "colorbar": {
             "outlinewidth": 0,
             "ticks": ""
            },
            "type": "contourcarpet"
           }
          ],
          "heatmap": [
           {
            "colorbar": {
             "outlinewidth": 0,
             "ticks": ""
            },
            "colorscale": [
             [
              0,
              "#0d0887"
             ],
             [
              0.1111111111111111,
              "#46039f"
             ],
             [
              0.2222222222222222,
              "#7201a8"
             ],
             [
              0.3333333333333333,
              "#9c179e"
             ],
             [
              0.4444444444444444,
              "#bd3786"
             ],
             [
              0.5555555555555556,
              "#d8576b"
             ],
             [
              0.6666666666666666,
              "#ed7953"
             ],
             [
              0.7777777777777778,
              "#fb9f3a"
             ],
             [
              0.8888888888888888,
              "#fdca26"
             ],
             [
              1,
              "#f0f921"
             ]
            ],
            "type": "heatmap"
           }
          ],
          "heatmapgl": [
           {
            "colorbar": {
             "outlinewidth": 0,
             "ticks": ""
            },
            "colorscale": [
             [
              0,
              "#0d0887"
             ],
             [
              0.1111111111111111,
              "#46039f"
             ],
             [
              0.2222222222222222,
              "#7201a8"
             ],
             [
              0.3333333333333333,
              "#9c179e"
             ],
             [
              0.4444444444444444,
              "#bd3786"
             ],
             [
              0.5555555555555556,
              "#d8576b"
             ],
             [
              0.6666666666666666,
              "#ed7953"
             ],
             [
              0.7777777777777778,
              "#fb9f3a"
             ],
             [
              0.8888888888888888,
              "#fdca26"
             ],
             [
              1,
              "#f0f921"
             ]
            ],
            "type": "heatmapgl"
           }
          ],
          "histogram": [
           {
            "marker": {
             "pattern": {
              "fillmode": "overlay",
              "size": 10,
              "solidity": 0.2
             }
            },
            "type": "histogram"
           }
          ],
          "histogram2d": [
           {
            "colorbar": {
             "outlinewidth": 0,
             "ticks": ""
            },
            "colorscale": [
             [
              0,
              "#0d0887"
             ],
             [
              0.1111111111111111,
              "#46039f"
             ],
             [
              0.2222222222222222,
              "#7201a8"
             ],
             [
              0.3333333333333333,
              "#9c179e"
             ],
             [
              0.4444444444444444,
              "#bd3786"
             ],
             [
              0.5555555555555556,
              "#d8576b"
             ],
             [
              0.6666666666666666,
              "#ed7953"
             ],
             [
              0.7777777777777778,
              "#fb9f3a"
             ],
             [
              0.8888888888888888,
              "#fdca26"
             ],
             [
              1,
              "#f0f921"
             ]
            ],
            "type": "histogram2d"
           }
          ],
          "histogram2dcontour": [
           {
            "colorbar": {
             "outlinewidth": 0,
             "ticks": ""
            },
            "colorscale": [
             [
              0,
              "#0d0887"
             ],
             [
              0.1111111111111111,
              "#46039f"
             ],
             [
              0.2222222222222222,
              "#7201a8"
             ],
             [
              0.3333333333333333,
              "#9c179e"
             ],
             [
              0.4444444444444444,
              "#bd3786"
             ],
             [
              0.5555555555555556,
              "#d8576b"
             ],
             [
              0.6666666666666666,
              "#ed7953"
             ],
             [
              0.7777777777777778,
              "#fb9f3a"
             ],
             [
              0.8888888888888888,
              "#fdca26"
             ],
             [
              1,
              "#f0f921"
             ]
            ],
            "type": "histogram2dcontour"
           }
          ],
          "mesh3d": [
           {
            "colorbar": {
             "outlinewidth": 0,
             "ticks": ""
            },
            "type": "mesh3d"
           }
          ],
          "parcoords": [
           {
            "line": {
             "colorbar": {
              "outlinewidth": 0,
              "ticks": ""
             }
            },
            "type": "parcoords"
           }
          ],
          "pie": [
           {
            "automargin": true,
            "type": "pie"
           }
          ],
          "scatter": [
           {
            "fillpattern": {
             "fillmode": "overlay",
             "size": 10,
             "solidity": 0.2
            },
            "type": "scatter"
           }
          ],
          "scatter3d": [
           {
            "line": {
             "colorbar": {
              "outlinewidth": 0,
              "ticks": ""
             }
            },
            "marker": {
             "colorbar": {
              "outlinewidth": 0,
              "ticks": ""
             }
            },
            "type": "scatter3d"
           }
          ],
          "scattercarpet": [
           {
            "marker": {
             "colorbar": {
              "outlinewidth": 0,
              "ticks": ""
             }
            },
            "type": "scattercarpet"
           }
          ],
          "scattergeo": [
           {
            "marker": {
             "colorbar": {
              "outlinewidth": 0,
              "ticks": ""
             }
            },
            "type": "scattergeo"
           }
          ],
          "scattergl": [
           {
            "marker": {
             "colorbar": {
              "outlinewidth": 0,
              "ticks": ""
             }
            },
            "type": "scattergl"
           }
          ],
          "scattermapbox": [
           {
            "marker": {
             "colorbar": {
              "outlinewidth": 0,
              "ticks": ""
             }
            },
            "type": "scattermapbox"
           }
          ],
          "scatterpolar": [
           {
            "marker": {
             "colorbar": {
              "outlinewidth": 0,
              "ticks": ""
             }
            },
            "type": "scatterpolar"
           }
          ],
          "scatterpolargl": [
           {
            "marker": {
             "colorbar": {
              "outlinewidth": 0,
              "ticks": ""
             }
            },
            "type": "scatterpolargl"
           }
          ],
          "scatterternary": [
           {
            "marker": {
             "colorbar": {
              "outlinewidth": 0,
              "ticks": ""
             }
            },
            "type": "scatterternary"
           }
          ],
          "surface": [
           {
            "colorbar": {
             "outlinewidth": 0,
             "ticks": ""
            },
            "colorscale": [
             [
              0,
              "#0d0887"
             ],
             [
              0.1111111111111111,
              "#46039f"
             ],
             [
              0.2222222222222222,
              "#7201a8"
             ],
             [
              0.3333333333333333,
              "#9c179e"
             ],
             [
              0.4444444444444444,
              "#bd3786"
             ],
             [
              0.5555555555555556,
              "#d8576b"
             ],
             [
              0.6666666666666666,
              "#ed7953"
             ],
             [
              0.7777777777777778,
              "#fb9f3a"
             ],
             [
              0.8888888888888888,
              "#fdca26"
             ],
             [
              1,
              "#f0f921"
             ]
            ],
            "type": "surface"
           }
          ],
          "table": [
           {
            "cells": {
             "fill": {
              "color": "#EBF0F8"
             },
             "line": {
              "color": "white"
             }
            },
            "header": {
             "fill": {
              "color": "#C8D4E3"
             },
             "line": {
              "color": "white"
             }
            },
            "type": "table"
           }
          ]
         },
         "layout": {
          "annotationdefaults": {
           "arrowcolor": "#2a3f5f",
           "arrowhead": 0,
           "arrowwidth": 1
          },
          "autotypenumbers": "strict",
          "coloraxis": {
           "colorbar": {
            "outlinewidth": 0,
            "ticks": ""
           }
          },
          "colorscale": {
           "diverging": [
            [
             0,
             "#8e0152"
            ],
            [
             0.1,
             "#c51b7d"
            ],
            [
             0.2,
             "#de77ae"
            ],
            [
             0.3,
             "#f1b6da"
            ],
            [
             0.4,
             "#fde0ef"
            ],
            [
             0.5,
             "#f7f7f7"
            ],
            [
             0.6,
             "#e6f5d0"
            ],
            [
             0.7,
             "#b8e186"
            ],
            [
             0.8,
             "#7fbc41"
            ],
            [
             0.9,
             "#4d9221"
            ],
            [
             1,
             "#276419"
            ]
           ],
           "sequential": [
            [
             0,
             "#0d0887"
            ],
            [
             0.1111111111111111,
             "#46039f"
            ],
            [
             0.2222222222222222,
             "#7201a8"
            ],
            [
             0.3333333333333333,
             "#9c179e"
            ],
            [
             0.4444444444444444,
             "#bd3786"
            ],
            [
             0.5555555555555556,
             "#d8576b"
            ],
            [
             0.6666666666666666,
             "#ed7953"
            ],
            [
             0.7777777777777778,
             "#fb9f3a"
            ],
            [
             0.8888888888888888,
             "#fdca26"
            ],
            [
             1,
             "#f0f921"
            ]
           ],
           "sequentialminus": [
            [
             0,
             "#0d0887"
            ],
            [
             0.1111111111111111,
             "#46039f"
            ],
            [
             0.2222222222222222,
             "#7201a8"
            ],
            [
             0.3333333333333333,
             "#9c179e"
            ],
            [
             0.4444444444444444,
             "#bd3786"
            ],
            [
             0.5555555555555556,
             "#d8576b"
            ],
            [
             0.6666666666666666,
             "#ed7953"
            ],
            [
             0.7777777777777778,
             "#fb9f3a"
            ],
            [
             0.8888888888888888,
             "#fdca26"
            ],
            [
             1,
             "#f0f921"
            ]
           ]
          },
          "colorway": [
           "#636efa",
           "#EF553B",
           "#00cc96",
           "#ab63fa",
           "#FFA15A",
           "#19d3f3",
           "#FF6692",
           "#B6E880",
           "#FF97FF",
           "#FECB52"
          ],
          "font": {
           "color": "#2a3f5f"
          },
          "geo": {
           "bgcolor": "white",
           "lakecolor": "white",
           "landcolor": "#E5ECF6",
           "showlakes": true,
           "showland": true,
           "subunitcolor": "white"
          },
          "hoverlabel": {
           "align": "left"
          },
          "hovermode": "closest",
          "mapbox": {
           "style": "light"
          },
          "paper_bgcolor": "white",
          "plot_bgcolor": "#E5ECF6",
          "polar": {
           "angularaxis": {
            "gridcolor": "white",
            "linecolor": "white",
            "ticks": ""
           },
           "bgcolor": "#E5ECF6",
           "radialaxis": {
            "gridcolor": "white",
            "linecolor": "white",
            "ticks": ""
           }
          },
          "scene": {
           "xaxis": {
            "backgroundcolor": "#E5ECF6",
            "gridcolor": "white",
            "gridwidth": 2,
            "linecolor": "white",
            "showbackground": true,
            "ticks": "",
            "zerolinecolor": "white"
           },
           "yaxis": {
            "backgroundcolor": "#E5ECF6",
            "gridcolor": "white",
            "gridwidth": 2,
            "linecolor": "white",
            "showbackground": true,
            "ticks": "",
            "zerolinecolor": "white"
           },
           "zaxis": {
            "backgroundcolor": "#E5ECF6",
            "gridcolor": "white",
            "gridwidth": 2,
            "linecolor": "white",
            "showbackground": true,
            "ticks": "",
            "zerolinecolor": "white"
           }
          },
          "shapedefaults": {
           "line": {
            "color": "#2a3f5f"
           }
          },
          "ternary": {
           "aaxis": {
            "gridcolor": "white",
            "linecolor": "white",
            "ticks": ""
           },
           "baxis": {
            "gridcolor": "white",
            "linecolor": "white",
            "ticks": ""
           },
           "bgcolor": "#E5ECF6",
           "caxis": {
            "gridcolor": "white",
            "linecolor": "white",
            "ticks": ""
           }
          },
          "title": {
           "x": 0.05
          },
          "xaxis": {
           "automargin": true,
           "gridcolor": "white",
           "linecolor": "white",
           "ticks": "",
           "title": {
            "standoff": 15
           },
           "zerolinecolor": "white",
           "zerolinewidth": 2
          },
          "yaxis": {
           "automargin": true,
           "gridcolor": "white",
           "linecolor": "white",
           "ticks": "",
           "title": {
            "standoff": 15
           },
           "zerolinecolor": "white",
           "zerolinewidth": 2
          }
         }
        },
        "title": {
         "text": "Daywise Pattern Across the Year - Week Number on X-axis & Value on Y-axis"
        },
        "updatemenus": [
         {
          "active": 0,
          "buttons": [
           {
            "args": [
             {
              "visible": [
               true,
               false,
               true,
               false,
               true,
               false,
               true,
               false,
               true,
               false,
               true,
               false,
               true,
               false
              ]
             },
             {
              "annotations": [],
              "title": "ALL"
             }
            ],
            "label": "ALL",
            "method": "update"
           },
           {
            "args": [
             {
              "visible": [
               true,
               true,
               false,
               false,
               false,
               false,
               false,
               false,
               false,
               false,
               false,
               false,
               false,
               false
              ]
             },
             {
              "annotations": [
               {
                "ax": 0,
                "ay": -40,
                "text": "Mon Average:<br> 1.164",
                "x": 26,
                "xref": "x",
                "y": 1.1636363636363634,
                "yref": "y"
               },
               {
                "ax": -40,
                "ay": -40,
                "text": "Mon Max:<br> 1.700",
                "x": 41,
                "xref": "x",
                "y": 1.7,
                "yref": "y"
               },
               {
                "ax": 0,
                "ay": 40,
                "text": "Mon Min:<br> 0.400",
                "x": 31,
                "xref": "x",
                "y": 0.4,
                "yref": "y"
               }
              ],
              "title": "Monday"
             }
            ],
            "label": "Mon",
            "method": "update"
           },
           {
            "args": [
             {
              "visible": [
               false,
               false,
               true,
               true,
               false,
               false,
               false,
               false,
               false,
               false,
               false,
               false,
               false,
               false
              ]
             },
             {
              "annotations": [
               {
                "ax": 0,
                "ay": -40,
                "text": "Tue Average:<br> 1.096",
                "x": 26,
                "xref": "x",
                "y": 1.0956521739130434,
                "yref": "y"
               },
               {
                "ax": -40,
                "ay": -40,
                "text": "Tue Max:<br> 1.700",
                "x": 41,
                "xref": "x",
                "y": 1.7,
                "yref": "y"
               },
               {
                "ax": 0,
                "ay": 40,
                "text": "Tue Min:<br> 0.400",
                "x": 31,
                "xref": "x",
                "y": 0.4,
                "yref": "y"
               }
              ],
              "title": "Tuesday"
             }
            ],
            "label": "Tue",
            "method": "update"
           },
           {
            "args": [
             {
              "visible": [
               false,
               false,
               false,
               false,
               true,
               true,
               false,
               false,
               false,
               false,
               false,
               false,
               false,
               false
              ]
             },
             {
              "annotations": [
               {
                "ax": 0,
                "ay": -40,
                "text": "Wed Average:<br> 1.109",
                "x": 26,
                "xref": "x",
                "y": 1.108695652173913,
                "yref": "y"
               },
               {
                "ax": -40,
                "ay": -40,
                "text": "Wed Max:<br> 1.700",
                "x": 41,
                "xref": "x",
                "y": 1.7,
                "yref": "y"
               },
               {
                "ax": 0,
                "ay": 40,
                "text": "Fri Min:<br> 0.500",
                "x": 30,
                "xref": "x",
                "y": 0.5,
                "yref": "y"
               }
              ],
              "title": "Wednesday"
             }
            ],
            "label": "Wed",
            "method": "update"
           },
           {
            "args": [
             {
              "visible": [
               false,
               false,
               false,
               false,
               false,
               false,
               true,
               true,
               false,
               false,
               false,
               false,
               false,
               false
              ]
             },
             {
              "annotations": [
               {
                "ax": 0,
                "ay": -40,
                "text": "Thu Average:<br> 1.096",
                "x": 26,
                "xref": "x",
                "y": 1.0956521739130434,
                "yref": "y"
               },
               {
                "ax": -40,
                "ay": -40,
                "text": "Thu Max:<br> 1.700",
                "x": 41,
                "xref": "x",
                "y": 1.7,
                "yref": "y"
               },
               {
                "ax": 0,
                "ay": 40,
                "text": "Fri Min:<br> 0.500",
                "x": 30,
                "xref": "x",
                "y": 0.5,
                "yref": "y"
               }
              ],
              "title": "Thursday"
             }
            ],
            "label": "Thu",
            "method": "update"
           },
           {
            "args": [
             {
              "visible": [
               false,
               false,
               false,
               false,
               false,
               false,
               false,
               false,
               true,
               true,
               false,
               false,
               false,
               false
              ]
             },
             {
              "annotations": [
               {
                "ax": 0,
                "ay": -40,
                "text": "Fri Average:<br> 1.096",
                "x": 26,
                "xref": "x",
                "y": 1.0956521739130438,
                "yref": "y"
               },
               {
                "ax": -40,
                "ay": -40,
                "text": "Fri Max:<br> 1.700",
                "x": 39,
                "xref": "x",
                "y": 1.7,
                "yref": "y"
               },
               {
                "ax": 0,
                "ay": 40,
                "text": "Fri Min:<br> 0.500",
                "x": 30,
                "xref": "x",
                "y": 0.5,
                "yref": "y"
               }
              ],
              "title": "Friday"
             }
            ],
            "label": "Fri",
            "method": "update"
           },
           {
            "args": [
             {
              "visible": [
               false,
               false,
               false,
               false,
               false,
               false,
               false,
               false,
               false,
               false,
               true,
               true,
               false,
               false
              ]
             },
             {
              "annotations": [
               {
                "ax": 0,
                "ay": -40,
                "text": "Sat Average:<br> 1.122",
                "x": 26,
                "xref": "x",
                "y": 1.1217391304347826,
                "yref": "y"
               },
               {
                "ax": -40,
                "ay": -40,
                "text": "Sat Max:<br> 1.700",
                "x": 41,
                "xref": "x",
                "y": 1.7,
                "yref": "y"
               },
               {
                "ax": 0,
                "ay": 40,
                "text": "Sat Min:<br> 0.400",
                "x": 30,
                "xref": "x",
                "y": 0.4,
                "yref": "y"
               }
              ],
              "title": "Saturday"
             }
            ],
            "label": "Sat",
            "method": "update"
           },
           {
            "args": [
             {
              "visible": [
               false,
               false,
               false,
               false,
               false,
               false,
               false,
               false,
               false,
               false,
               false,
               false,
               true,
               true
              ]
             },
             {
              "annotations": [
               {
                "ax": 0,
                "ay": 40,
                "text": "Sun Average:<br> 1.164",
                "x": 26,
                "xref": "x",
                "y": 1.1636363636363634,
                "yref": "y"
               },
               {
                "ax": 0,
                "ay": 40,
                "text": "Sun Max:<br> 1.700",
                "x": 40,
                "xref": "x",
                "y": 1.7,
                "yref": "y"
               },
               {
                "ax": 0,
                "ay": 40,
                "text": "Sun Min:<br> 0.400",
                "x": 30,
                "xref": "x",
                "y": 0.4,
                "yref": "y"
               }
              ],
              "title": "Sunday"
             }
            ],
            "label": "Sun",
            "method": "update"
           }
          ]
         }
        ]
       }
      },
      "text/html": [
       "<div>                            <div id=\"d601fa48-a862-42b3-a031-50e7d1346b72\" class=\"plotly-graph-div\" style=\"height:525px; width:100%;\"></div>            <script type=\"text/javascript\">                require([\"plotly\"], function(Plotly) {                    window.PLOTLYENV=window.PLOTLYENV || {};                                    if (document.getElementById(\"d601fa48-a862-42b3-a031-50e7d1346b72\")) {                    Plotly.newPlot(                        \"d601fa48-a862-42b3-a031-50e7d1346b72\",                        [{\"line\":{\"color\":\"#F22727\"},\"name\":\"Mon\",\"x\":[30,31,32,33,34,35,36,37,38,39,40,41,42,43,44,45,46,47,48,49,50,51,52],\"y\":[null,0.4,0.7,0.8,1.1,1.2,1.2,1.5,1.5,1.4,1.6,1.7,1.7,0.9,0.8,1.3,1.4,1.3,1.1,1.2,1.2,0.9,0.7],\"type\":\"scatter\"},{\"line\":{\"color\":\"#F22727\",\"dash\":\"dash\"},\"name\":\"Mon Average\",\"visible\":false,\"x\":[30,31,32,33,34,35,36,37,38,39,40,41,42,43,44,45,46,47,48,49,50,51,52],\"y\":[1.1636363636363634,1.1636363636363634,1.1636363636363634,1.1636363636363634,1.1636363636363634,1.1636363636363634,1.1636363636363634,1.1636363636363634,1.1636363636363634,1.1636363636363634,1.1636363636363634,1.1636363636363634,1.1636363636363634,1.1636363636363634,1.1636363636363634,1.1636363636363634,1.1636363636363634,1.1636363636363634,1.1636363636363634,1.1636363636363634,1.1636363636363634,1.1636363636363634,1.1636363636363634],\"type\":\"scatter\"},{\"line\":{\"color\":\"#CACF33\"},\"name\":\"Tue\",\"x\":[30,31,32,33,34,35,36,37,38,39,40,41,42,43,44,45,46,47,48,49,50,51,52],\"y\":[0.5,0.4,0.7,0.8,1.1,1.2,1.2,1.4,1.5,1.4,1.6,1.7,0.9,0.9,0.9,1.4,1.4,1.4,1.1,1.2,0.9,0.9,0.7],\"type\":\"scatter\"},{\"line\":{\"color\":\"#CACF33\",\"dash\":\"dash\"},\"name\":\"Tue Average\",\"visible\":false,\"x\":[30,31,32,33,34,35,36,37,38,39,40,41,42,43,44,45,46,47,48,49,50,51,52],\"y\":[1.0956521739130434,1.0956521739130434,1.0956521739130434,1.0956521739130434,1.0956521739130434,1.0956521739130434,1.0956521739130434,1.0956521739130434,1.0956521739130434,1.0956521739130434,1.0956521739130434,1.0956521739130434,1.0956521739130434,1.0956521739130434,1.0956521739130434,1.0956521739130434,1.0956521739130434,1.0956521739130434,1.0956521739130434,1.0956521739130434,1.0956521739130434,1.0956521739130434,1.0956521739130434],\"type\":\"scatter\"},{\"line\":{\"color\":\"#33CFA5\"},\"name\":\"Wed\",\"x\":[30,31,32,33,34,35,36,37,38,39,40,41,42,43,44,45,46,47,48,49,50,51,52],\"y\":[0.5,0.5,0.8,0.8,1.1,1.2,1.2,1.5,1.5,1.5,1.6,1.7,1.0,0.9,1.1,1.3,1.4,1.3,1.0,1.2,0.9,0.9,0.6],\"type\":\"scatter\"},{\"line\":{\"color\":\"#33CFA5\",\"dash\":\"dash\"},\"name\":\"Wed Average\",\"visible\":false,\"x\":[30,31,32,33,34,35,36,37,38,39,40,41,42,43,44,45,46,47,48,49,50,51,52],\"y\":[1.108695652173913,1.108695652173913,1.108695652173913,1.108695652173913,1.108695652173913,1.108695652173913,1.108695652173913,1.108695652173913,1.108695652173913,1.108695652173913,1.108695652173913,1.108695652173913,1.108695652173913,1.108695652173913,1.108695652173913,1.108695652173913,1.108695652173913,1.108695652173913,1.108695652173913,1.108695652173913,1.108695652173913,1.108695652173913,1.108695652173913],\"type\":\"scatter\"},{\"line\":{\"color\":\"#27E4F2\"},\"name\":\"Thu\",\"x\":[30,31,32,33,34,35,36,37,38,39,40,41,42,43,44,45,46,47,48,49,50,51,52],\"y\":[0.5,0.5,0.7,0.9,1.1,1.2,1.3,1.5,1.5,1.6,1.6,1.7,0.9,0.8,1.1,1.3,1.4,1.2,1.0,1.1,0.9,0.8,0.6],\"type\":\"scatter\"},{\"line\":{\"color\":\"#27E4F2\",\"dash\":\"dash\"},\"name\":\"Thu Average\",\"visible\":false,\"x\":[30,31,32,33,34,35,36,37,38,39,40,41,42,43,44,45,46,47,48,49,50,51,52],\"y\":[1.0956521739130434,1.0956521739130434,1.0956521739130434,1.0956521739130434,1.0956521739130434,1.0956521739130434,1.0956521739130434,1.0956521739130434,1.0956521739130434,1.0956521739130434,1.0956521739130434,1.0956521739130434,1.0956521739130434,1.0956521739130434,1.0956521739130434,1.0956521739130434,1.0956521739130434,1.0956521739130434,1.0956521739130434,1.0956521739130434,1.0956521739130434,1.0956521739130434,1.0956521739130434],\"type\":\"scatter\"},{\"line\":{\"color\":\"#9ECF33\"},\"name\":\"Fri\",\"x\":[30,31,32,33,34,35,36,37,38,39,40,41,42,43,44,45,46,47,48,49,50,51,52],\"y\":[0.5,0.6,0.7,1.0,1.1,1.1,1.3,1.5,1.5,1.7,1.6,1.7,0.9,0.8,1.1,1.3,1.3,1.1,1.0,1.1,0.9,0.8,0.6],\"type\":\"scatter\"},{\"line\":{\"color\":\"#9ECF33\",\"dash\":\"dash\"},\"name\":\"Fri Average\",\"visible\":false,\"x\":[30,31,32,33,34,35,36,37,38,39,40,41,42,43,44,45,46,47,48,49,50,51,52],\"y\":[1.0956521739130438,1.0956521739130438,1.0956521739130438,1.0956521739130438,1.0956521739130438,1.0956521739130438,1.0956521739130438,1.0956521739130438,1.0956521739130438,1.0956521739130438,1.0956521739130438,1.0956521739130438,1.0956521739130438,1.0956521739130438,1.0956521739130438,1.0956521739130438,1.0956521739130438,1.0956521739130438,1.0956521739130438,1.0956521739130438,1.0956521739130438,1.0956521739130438,1.0956521739130438],\"type\":\"scatter\"},{\"line\":{\"color\":\"#CCCF33\"},\"name\":\"Sat\",\"x\":[30,31,32,33,34,35,36,37,38,39,40,41,42,43,44,45,46,47,48,49,50,51,52],\"y\":[0.4,0.6,0.8,1.0,1.1,1.1,1.4,1.5,1.5,1.6,1.6,1.7,0.9,0.8,1.3,1.4,1.3,1.1,1.2,1.2,0.9,0.7,0.7],\"type\":\"scatter\"},{\"line\":{\"color\":\"#CCCF33\",\"dash\":\"dash\"},\"name\":\"Sat Average\",\"visible\":false,\"x\":[30,31,32,33,34,35,36,37,38,39,40,41,42,43,44,45,46,47,48,49,50,51,52],\"y\":[1.1217391304347826,1.1217391304347826,1.1217391304347826,1.1217391304347826,1.1217391304347826,1.1217391304347826,1.1217391304347826,1.1217391304347826,1.1217391304347826,1.1217391304347826,1.1217391304347826,1.1217391304347826,1.1217391304347826,1.1217391304347826,1.1217391304347826,1.1217391304347826,1.1217391304347826,1.1217391304347826,1.1217391304347826,1.1217391304347826,1.1217391304347826,1.1217391304347826,1.1217391304347826],\"type\":\"scatter\"},{\"line\":{\"color\":\"#CF9833\"},\"name\":\"Sun\",\"x\":[30,31,32,33,34,35,36,37,38,39,40,41,42,43,44,45,46,47,48,49,50,51,52],\"y\":[0.4,0.7,0.8,1.1,1.2,1.2,1.5,1.5,1.4,1.6,1.7,1.7,0.9,0.8,1.3,1.4,1.3,1.1,1.2,1.2,0.9,0.7,null],\"type\":\"scatter\"},{\"line\":{\"color\":\"#CF9833\",\"dash\":\"dash\"},\"name\":\"Sun Average\",\"visible\":false,\"x\":[30,31,32,33,34,35,36,37,38,39,40,41,42,43,44,45,46,47,48,49,50,51,52],\"y\":[1.1636363636363634,1.1636363636363634,1.1636363636363634,1.1636363636363634,1.1636363636363634,1.1636363636363634,1.1636363636363634,1.1636363636363634,1.1636363636363634,1.1636363636363634,1.1636363636363634,1.1636363636363634,1.1636363636363634,1.1636363636363634,1.1636363636363634,1.1636363636363634,1.1636363636363634,1.1636363636363634,1.1636363636363634,1.1636363636363634,1.1636363636363634,1.1636363636363634,1.1636363636363634],\"type\":\"scatter\"}],                        {\"template\":{\"data\":{\"histogram2dcontour\":[{\"type\":\"histogram2dcontour\",\"colorbar\":{\"outlinewidth\":0,\"ticks\":\"\"},\"colorscale\":[[0.0,\"#0d0887\"],[0.1111111111111111,\"#46039f\"],[0.2222222222222222,\"#7201a8\"],[0.3333333333333333,\"#9c179e\"],[0.4444444444444444,\"#bd3786\"],[0.5555555555555556,\"#d8576b\"],[0.6666666666666666,\"#ed7953\"],[0.7777777777777778,\"#fb9f3a\"],[0.8888888888888888,\"#fdca26\"],[1.0,\"#f0f921\"]]}],\"choropleth\":[{\"type\":\"choropleth\",\"colorbar\":{\"outlinewidth\":0,\"ticks\":\"\"}}],\"histogram2d\":[{\"type\":\"histogram2d\",\"colorbar\":{\"outlinewidth\":0,\"ticks\":\"\"},\"colorscale\":[[0.0,\"#0d0887\"],[0.1111111111111111,\"#46039f\"],[0.2222222222222222,\"#7201a8\"],[0.3333333333333333,\"#9c179e\"],[0.4444444444444444,\"#bd3786\"],[0.5555555555555556,\"#d8576b\"],[0.6666666666666666,\"#ed7953\"],[0.7777777777777778,\"#fb9f3a\"],[0.8888888888888888,\"#fdca26\"],[1.0,\"#f0f921\"]]}],\"heatmap\":[{\"type\":\"heatmap\",\"colorbar\":{\"outlinewidth\":0,\"ticks\":\"\"},\"colorscale\":[[0.0,\"#0d0887\"],[0.1111111111111111,\"#46039f\"],[0.2222222222222222,\"#7201a8\"],[0.3333333333333333,\"#9c179e\"],[0.4444444444444444,\"#bd3786\"],[0.5555555555555556,\"#d8576b\"],[0.6666666666666666,\"#ed7953\"],[0.7777777777777778,\"#fb9f3a\"],[0.8888888888888888,\"#fdca26\"],[1.0,\"#f0f921\"]]}],\"heatmapgl\":[{\"type\":\"heatmapgl\",\"colorbar\":{\"outlinewidth\":0,\"ticks\":\"\"},\"colorscale\":[[0.0,\"#0d0887\"],[0.1111111111111111,\"#46039f\"],[0.2222222222222222,\"#7201a8\"],[0.3333333333333333,\"#9c179e\"],[0.4444444444444444,\"#bd3786\"],[0.5555555555555556,\"#d8576b\"],[0.6666666666666666,\"#ed7953\"],[0.7777777777777778,\"#fb9f3a\"],[0.8888888888888888,\"#fdca26\"],[1.0,\"#f0f921\"]]}],\"contourcarpet\":[{\"type\":\"contourcarpet\",\"colorbar\":{\"outlinewidth\":0,\"ticks\":\"\"}}],\"contour\":[{\"type\":\"contour\",\"colorbar\":{\"outlinewidth\":0,\"ticks\":\"\"},\"colorscale\":[[0.0,\"#0d0887\"],[0.1111111111111111,\"#46039f\"],[0.2222222222222222,\"#7201a8\"],[0.3333333333333333,\"#9c179e\"],[0.4444444444444444,\"#bd3786\"],[0.5555555555555556,\"#d8576b\"],[0.6666666666666666,\"#ed7953\"],[0.7777777777777778,\"#fb9f3a\"],[0.8888888888888888,\"#fdca26\"],[1.0,\"#f0f921\"]]}],\"surface\":[{\"type\":\"surface\",\"colorbar\":{\"outlinewidth\":0,\"ticks\":\"\"},\"colorscale\":[[0.0,\"#0d0887\"],[0.1111111111111111,\"#46039f\"],[0.2222222222222222,\"#7201a8\"],[0.3333333333333333,\"#9c179e\"],[0.4444444444444444,\"#bd3786\"],[0.5555555555555556,\"#d8576b\"],[0.6666666666666666,\"#ed7953\"],[0.7777777777777778,\"#fb9f3a\"],[0.8888888888888888,\"#fdca26\"],[1.0,\"#f0f921\"]]}],\"mesh3d\":[{\"type\":\"mesh3d\",\"colorbar\":{\"outlinewidth\":0,\"ticks\":\"\"}}],\"scatter\":[{\"fillpattern\":{\"fillmode\":\"overlay\",\"size\":10,\"solidity\":0.2},\"type\":\"scatter\"}],\"parcoords\":[{\"type\":\"parcoords\",\"line\":{\"colorbar\":{\"outlinewidth\":0,\"ticks\":\"\"}}}],\"scatterpolargl\":[{\"type\":\"scatterpolargl\",\"marker\":{\"colorbar\":{\"outlinewidth\":0,\"ticks\":\"\"}}}],\"bar\":[{\"error_x\":{\"color\":\"#2a3f5f\"},\"error_y\":{\"color\":\"#2a3f5f\"},\"marker\":{\"line\":{\"color\":\"#E5ECF6\",\"width\":0.5},\"pattern\":{\"fillmode\":\"overlay\",\"size\":10,\"solidity\":0.2}},\"type\":\"bar\"}],\"scattergeo\":[{\"type\":\"scattergeo\",\"marker\":{\"colorbar\":{\"outlinewidth\":0,\"ticks\":\"\"}}}],\"scatterpolar\":[{\"type\":\"scatterpolar\",\"marker\":{\"colorbar\":{\"outlinewidth\":0,\"ticks\":\"\"}}}],\"histogram\":[{\"marker\":{\"pattern\":{\"fillmode\":\"overlay\",\"size\":10,\"solidity\":0.2}},\"type\":\"histogram\"}],\"scattergl\":[{\"type\":\"scattergl\",\"marker\":{\"colorbar\":{\"outlinewidth\":0,\"ticks\":\"\"}}}],\"scatter3d\":[{\"type\":\"scatter3d\",\"line\":{\"colorbar\":{\"outlinewidth\":0,\"ticks\":\"\"}},\"marker\":{\"colorbar\":{\"outlinewidth\":0,\"ticks\":\"\"}}}],\"scattermapbox\":[{\"type\":\"scattermapbox\",\"marker\":{\"colorbar\":{\"outlinewidth\":0,\"ticks\":\"\"}}}],\"scatterternary\":[{\"type\":\"scatterternary\",\"marker\":{\"colorbar\":{\"outlinewidth\":0,\"ticks\":\"\"}}}],\"scattercarpet\":[{\"type\":\"scattercarpet\",\"marker\":{\"colorbar\":{\"outlinewidth\":0,\"ticks\":\"\"}}}],\"carpet\":[{\"aaxis\":{\"endlinecolor\":\"#2a3f5f\",\"gridcolor\":\"white\",\"linecolor\":\"white\",\"minorgridcolor\":\"white\",\"startlinecolor\":\"#2a3f5f\"},\"baxis\":{\"endlinecolor\":\"#2a3f5f\",\"gridcolor\":\"white\",\"linecolor\":\"white\",\"minorgridcolor\":\"white\",\"startlinecolor\":\"#2a3f5f\"},\"type\":\"carpet\"}],\"table\":[{\"cells\":{\"fill\":{\"color\":\"#EBF0F8\"},\"line\":{\"color\":\"white\"}},\"header\":{\"fill\":{\"color\":\"#C8D4E3\"},\"line\":{\"color\":\"white\"}},\"type\":\"table\"}],\"barpolar\":[{\"marker\":{\"line\":{\"color\":\"#E5ECF6\",\"width\":0.5},\"pattern\":{\"fillmode\":\"overlay\",\"size\":10,\"solidity\":0.2}},\"type\":\"barpolar\"}],\"pie\":[{\"automargin\":true,\"type\":\"pie\"}]},\"layout\":{\"autotypenumbers\":\"strict\",\"colorway\":[\"#636efa\",\"#EF553B\",\"#00cc96\",\"#ab63fa\",\"#FFA15A\",\"#19d3f3\",\"#FF6692\",\"#B6E880\",\"#FF97FF\",\"#FECB52\"],\"font\":{\"color\":\"#2a3f5f\"},\"hovermode\":\"closest\",\"hoverlabel\":{\"align\":\"left\"},\"paper_bgcolor\":\"white\",\"plot_bgcolor\":\"#E5ECF6\",\"polar\":{\"bgcolor\":\"#E5ECF6\",\"angularaxis\":{\"gridcolor\":\"white\",\"linecolor\":\"white\",\"ticks\":\"\"},\"radialaxis\":{\"gridcolor\":\"white\",\"linecolor\":\"white\",\"ticks\":\"\"}},\"ternary\":{\"bgcolor\":\"#E5ECF6\",\"aaxis\":{\"gridcolor\":\"white\",\"linecolor\":\"white\",\"ticks\":\"\"},\"baxis\":{\"gridcolor\":\"white\",\"linecolor\":\"white\",\"ticks\":\"\"},\"caxis\":{\"gridcolor\":\"white\",\"linecolor\":\"white\",\"ticks\":\"\"}},\"coloraxis\":{\"colorbar\":{\"outlinewidth\":0,\"ticks\":\"\"}},\"colorscale\":{\"sequential\":[[0.0,\"#0d0887\"],[0.1111111111111111,\"#46039f\"],[0.2222222222222222,\"#7201a8\"],[0.3333333333333333,\"#9c179e\"],[0.4444444444444444,\"#bd3786\"],[0.5555555555555556,\"#d8576b\"],[0.6666666666666666,\"#ed7953\"],[0.7777777777777778,\"#fb9f3a\"],[0.8888888888888888,\"#fdca26\"],[1.0,\"#f0f921\"]],\"sequentialminus\":[[0.0,\"#0d0887\"],[0.1111111111111111,\"#46039f\"],[0.2222222222222222,\"#7201a8\"],[0.3333333333333333,\"#9c179e\"],[0.4444444444444444,\"#bd3786\"],[0.5555555555555556,\"#d8576b\"],[0.6666666666666666,\"#ed7953\"],[0.7777777777777778,\"#fb9f3a\"],[0.8888888888888888,\"#fdca26\"],[1.0,\"#f0f921\"]],\"diverging\":[[0,\"#8e0152\"],[0.1,\"#c51b7d\"],[0.2,\"#de77ae\"],[0.3,\"#f1b6da\"],[0.4,\"#fde0ef\"],[0.5,\"#f7f7f7\"],[0.6,\"#e6f5d0\"],[0.7,\"#b8e186\"],[0.8,\"#7fbc41\"],[0.9,\"#4d9221\"],[1,\"#276419\"]]},\"xaxis\":{\"gridcolor\":\"white\",\"linecolor\":\"white\",\"ticks\":\"\",\"title\":{\"standoff\":15},\"zerolinecolor\":\"white\",\"automargin\":true,\"zerolinewidth\":2},\"yaxis\":{\"gridcolor\":\"white\",\"linecolor\":\"white\",\"ticks\":\"\",\"title\":{\"standoff\":15},\"zerolinecolor\":\"white\",\"automargin\":true,\"zerolinewidth\":2},\"scene\":{\"xaxis\":{\"backgroundcolor\":\"#E5ECF6\",\"gridcolor\":\"white\",\"linecolor\":\"white\",\"showbackground\":true,\"ticks\":\"\",\"zerolinecolor\":\"white\",\"gridwidth\":2},\"yaxis\":{\"backgroundcolor\":\"#E5ECF6\",\"gridcolor\":\"white\",\"linecolor\":\"white\",\"showbackground\":true,\"ticks\":\"\",\"zerolinecolor\":\"white\",\"gridwidth\":2},\"zaxis\":{\"backgroundcolor\":\"#E5ECF6\",\"gridcolor\":\"white\",\"linecolor\":\"white\",\"showbackground\":true,\"ticks\":\"\",\"zerolinecolor\":\"white\",\"gridwidth\":2}},\"shapedefaults\":{\"line\":{\"color\":\"#2a3f5f\"}},\"annotationdefaults\":{\"arrowcolor\":\"#2a3f5f\",\"arrowhead\":0,\"arrowwidth\":1},\"geo\":{\"bgcolor\":\"white\",\"landcolor\":\"#E5ECF6\",\"subunitcolor\":\"white\",\"showland\":true,\"showlakes\":true,\"lakecolor\":\"white\"},\"title\":{\"x\":0.05},\"mapbox\":{\"style\":\"light\"}}},\"updatemenus\":[{\"active\":0,\"buttons\":[{\"args\":[{\"visible\":[true,false,true,false,true,false,true,false,true,false,true,false,true,false]},{\"title\":\"ALL\",\"annotations\":[]}],\"label\":\"ALL\",\"method\":\"update\"},{\"args\":[{\"visible\":[true,true,false,false,false,false,false,false,false,false,false,false,false,false]},{\"title\":\"Monday\",\"annotations\":[{\"x\":26,\"y\":1.1636363636363634,\"xref\":\"x\",\"yref\":\"y\",\"text\":\"Mon Average:<br> 1.164\",\"ax\":0,\"ay\":-40},{\"x\":41,\"y\":1.7,\"xref\":\"x\",\"yref\":\"y\",\"text\":\"Mon Max:<br> 1.700\",\"ax\":-40,\"ay\":-40},{\"x\":31,\"y\":0.4,\"xref\":\"x\",\"yref\":\"y\",\"text\":\"Mon Min:<br> 0.400\",\"ax\":0,\"ay\":40}]}],\"label\":\"Mon\",\"method\":\"update\"},{\"args\":[{\"visible\":[false,false,true,true,false,false,false,false,false,false,false,false,false,false]},{\"title\":\"Tuesday\",\"annotations\":[{\"x\":26,\"y\":1.0956521739130434,\"xref\":\"x\",\"yref\":\"y\",\"text\":\"Tue Average:<br> 1.096\",\"ax\":0,\"ay\":-40},{\"x\":41,\"y\":1.7,\"xref\":\"x\",\"yref\":\"y\",\"text\":\"Tue Max:<br> 1.700\",\"ax\":-40,\"ay\":-40},{\"x\":31,\"y\":0.4,\"xref\":\"x\",\"yref\":\"y\",\"text\":\"Tue Min:<br> 0.400\",\"ax\":0,\"ay\":40}]}],\"label\":\"Tue\",\"method\":\"update\"},{\"args\":[{\"visible\":[false,false,false,false,true,true,false,false,false,false,false,false,false,false]},{\"title\":\"Wednesday\",\"annotations\":[{\"x\":26,\"y\":1.108695652173913,\"xref\":\"x\",\"yref\":\"y\",\"text\":\"Wed Average:<br> 1.109\",\"ax\":0,\"ay\":-40},{\"x\":41,\"y\":1.7,\"xref\":\"x\",\"yref\":\"y\",\"text\":\"Wed Max:<br> 1.700\",\"ax\":-40,\"ay\":-40},{\"x\":30,\"y\":0.5,\"xref\":\"x\",\"yref\":\"y\",\"text\":\"Fri Min:<br> 0.500\",\"ax\":0,\"ay\":40}]}],\"label\":\"Wed\",\"method\":\"update\"},{\"args\":[{\"visible\":[false,false,false,false,false,false,true,true,false,false,false,false,false,false]},{\"title\":\"Thursday\",\"annotations\":[{\"x\":26,\"y\":1.0956521739130434,\"xref\":\"x\",\"yref\":\"y\",\"text\":\"Thu Average:<br> 1.096\",\"ax\":0,\"ay\":-40},{\"x\":41,\"y\":1.7,\"xref\":\"x\",\"yref\":\"y\",\"text\":\"Thu Max:<br> 1.700\",\"ax\":-40,\"ay\":-40},{\"x\":30,\"y\":0.5,\"xref\":\"x\",\"yref\":\"y\",\"text\":\"Fri Min:<br> 0.500\",\"ax\":0,\"ay\":40}]}],\"label\":\"Thu\",\"method\":\"update\"},{\"args\":[{\"visible\":[false,false,false,false,false,false,false,false,true,true,false,false,false,false]},{\"title\":\"Friday\",\"annotations\":[{\"x\":26,\"y\":1.0956521739130438,\"xref\":\"x\",\"yref\":\"y\",\"text\":\"Fri Average:<br> 1.096\",\"ax\":0,\"ay\":-40},{\"x\":39,\"y\":1.7,\"xref\":\"x\",\"yref\":\"y\",\"text\":\"Fri Max:<br> 1.700\",\"ax\":-40,\"ay\":-40},{\"x\":30,\"y\":0.5,\"xref\":\"x\",\"yref\":\"y\",\"text\":\"Fri Min:<br> 0.500\",\"ax\":0,\"ay\":40}]}],\"label\":\"Fri\",\"method\":\"update\"},{\"args\":[{\"visible\":[false,false,false,false,false,false,false,false,false,false,true,true,false,false]},{\"title\":\"Saturday\",\"annotations\":[{\"x\":26,\"y\":1.1217391304347826,\"xref\":\"x\",\"yref\":\"y\",\"text\":\"Sat Average:<br> 1.122\",\"ax\":0,\"ay\":-40},{\"x\":41,\"y\":1.7,\"xref\":\"x\",\"yref\":\"y\",\"text\":\"Sat Max:<br> 1.700\",\"ax\":-40,\"ay\":-40},{\"x\":30,\"y\":0.4,\"xref\":\"x\",\"yref\":\"y\",\"text\":\"Sat Min:<br> 0.400\",\"ax\":0,\"ay\":40}]}],\"label\":\"Sat\",\"method\":\"update\"},{\"args\":[{\"visible\":[false,false,false,false,false,false,false,false,false,false,false,false,true,true]},{\"title\":\"Sunday\",\"annotations\":[{\"x\":26,\"y\":1.1636363636363634,\"xref\":\"x\",\"yref\":\"y\",\"text\":\"Sun Average:<br> 1.164\",\"ax\":0,\"ay\":40},{\"x\":40,\"y\":1.7,\"xref\":\"x\",\"yref\":\"y\",\"text\":\"Sun Max:<br> 1.700\",\"ax\":0,\"ay\":40},{\"x\":30,\"y\":0.4,\"xref\":\"x\",\"yref\":\"y\",\"text\":\"Sun Min:<br> 0.400\",\"ax\":0,\"ay\":40}]}],\"label\":\"Sun\",\"method\":\"update\"}]}],\"title\":{\"text\":\"Daywise Pattern Across the Year - Week Number on X-axis & Value on Y-axis\"}},                        {\"responsive\": true}                    ).then(function(){\n",
       "                            \n",
       "var gd = document.getElementById('d601fa48-a862-42b3-a031-50e7d1346b72');\n",
       "var x = new MutationObserver(function (mutations, observer) {{\n",
       "        var display = window.getComputedStyle(gd).display;\n",
       "        if (!display || display === 'none') {{\n",
       "            console.log([gd, 'removed!']);\n",
       "            Plotly.purge(gd);\n",
       "            observer.disconnect();\n",
       "        }}\n",
       "}});\n",
       "\n",
       "// Listen for the removal of the full notebook cells\n",
       "var notebookContainer = gd.closest('#notebook-container');\n",
       "if (notebookContainer) {{\n",
       "    x.observe(notebookContainer, {childList: true});\n",
       "}}\n",
       "\n",
       "// Listen for the clearing of the current output cell\n",
       "var outputEl = gd.closest('.output');\n",
       "if (outputEl) {{\n",
       "    x.observe(outputEl, {childList: true});\n",
       "}}\n",
       "\n",
       "                        })                };                });            </script>        </div>"
      ]
     },
     "metadata": {},
     "output_type": "display_data"
    },
    {
     "name": "stdout",
     "output_type": "stream",
     "text": [
      "This is a Dynamic plot. Will be visible only after execution of this cell\n"
     ]
    }
   ],
   "source": [
    "import plotly.graph_objects as go\n",
    "import pandas as pd\n",
    "\n",
    "# Initialize figure\n",
    "fig = go.Figure()\n",
    "\n",
    "# Add Traces\n",
    "fig.add_trace(\n",
    "    go.Scatter(x=list(data_yr_p.index),\n",
    "               y=list(data_yr_p.Monday),\n",
    "               name=\"Mon\",\n",
    "               line=dict(color=\"#F22727\")))\n",
    "\n",
    "fig.add_trace(\n",
    "    go.Scatter(x=list(data_yr_p.index),\n",
    "               y=[data_yr_p.Monday.mean()] * len(data_yr_p.index),\n",
    "               name=\"Mon Average\",\n",
    "               visible=False,\n",
    "               line=dict(color=\"#F22727\", dash=\"dash\")))\n",
    "\n",
    "fig.add_trace(\n",
    "    go.Scatter(x=list(data_yr_p.index),\n",
    "               y=list(data_yr_p.Tuesday),\n",
    "               name=\"Tue\",\n",
    "               line=dict(color=\"#CACF33\")))\n",
    "\n",
    "fig.add_trace(\n",
    "    go.Scatter(x=list(data_yr_p.index),\n",
    "               y=[data_yr_p.Tuesday.mean()] * len(data_yr_p.index),\n",
    "               name=\"Tue Average\",\n",
    "               visible=False,\n",
    "               line=dict(color=\"#CACF33\", dash=\"dash\")))\n",
    "\n",
    "fig.add_trace(\n",
    "    go.Scatter(x=list(data_yr_p.index),\n",
    "               y=list(data_yr_p.Wednesday),\n",
    "               name=\"Wed\",\n",
    "               line=dict(color=\"#33CFA5\")))\n",
    "\n",
    "fig.add_trace(\n",
    "    go.Scatter(x=list(data_yr_p.index),\n",
    "               y=[data_yr_p.Wednesday.mean()] * len(data_yr_p.index),\n",
    "               name=\"Wed Average\",\n",
    "               visible=False,\n",
    "               line=dict(color=\"#33CFA5\", dash=\"dash\")))\n",
    "\n",
    "fig.add_trace(\n",
    "    go.Scatter(x=list(data_yr_p.index),\n",
    "               y=list(data_yr_p.Thursday),\n",
    "               name=\"Thu\",\n",
    "               line=dict(color=\"#27E4F2\")))\n",
    "\n",
    "fig.add_trace(\n",
    "    go.Scatter(x=list(data_yr_p.index),\n",
    "               y=[data_yr_p.Thursday.mean()] * len(data_yr_p.index),\n",
    "               name=\"Thu Average\",\n",
    "               visible=False,\n",
    "               line=dict(color=\"#27E4F2\", dash=\"dash\")))\n",
    "\n",
    "fig.add_trace(\n",
    "    go.Scatter(x=list(data_yr_p.index),\n",
    "               y=list(data_yr_p.Friday),\n",
    "               name=\"Fri\",\n",
    "               line=dict(color=\"#9ECF33\")))\n",
    "\n",
    "fig.add_trace(\n",
    "    go.Scatter(x=list(data_yr_p.index),\n",
    "               y=[data_yr_p.Friday.mean()] * len(data_yr_p.index),\n",
    "               name=\"Fri Average\",\n",
    "               visible=False,\n",
    "               line=dict(color=\"#9ECF33\", dash=\"dash\")))\n",
    "\n",
    "\n",
    "fig.add_trace(\n",
    "    go.Scatter(x=list(data_yr_p.index),\n",
    "               y=list(data_yr_p.Saturday),\n",
    "               name=\"Sat\",\n",
    "               line=dict(color=\"#CCCF33\")))\n",
    "\n",
    "fig.add_trace(\n",
    "    go.Scatter(x=list(data_yr_p.index),\n",
    "               y=[data_yr_p.Saturday.mean()] * len(data_yr_p.index),\n",
    "               name=\"Sat Average\",\n",
    "               visible=False,\n",
    "               line=dict(color=\"#CCCF33\", dash=\"dash\")))\n",
    "\n",
    "\n",
    "fig.add_trace(\n",
    "    go.Scatter(x=list(data_yr_p.index),\n",
    "               y=list(data_yr_p.Sunday),\n",
    "               name=\"Sun\",\n",
    "               line=dict(color=\"#CF9833\")))\n",
    "\n",
    "fig.add_trace(\n",
    "    go.Scatter(x=list(data_yr_p.index),\n",
    "               y=[data_yr_p.Sunday.mean()] * len(data_yr_p.index),\n",
    "               name=\"Sun Average\",\n",
    "               visible=False,\n",
    "               line=dict(color=\"#CF9833\", dash=\"dash\")))\n",
    "\n",
    "\n",
    "Mon_annotations = [dict(x=26,\n",
    "                         y=data_yr_p.Monday.mean(),\n",
    "                         xref=\"x\", yref=\"y\",\n",
    "                         text=\"Mon Average:<br> %.3f\" % data_yr_p.Monday.mean(),\n",
    "                         ax=0, ay=-40),\n",
    "                    dict(x=data_yr_p.Monday.idxmax(),\n",
    "                         y=data_yr_p.Monday.max(),\n",
    "                         xref=\"x\", yref=\"y\",\n",
    "                         text=\"Mon Max:<br> %.3f\" % data_yr_p.Monday.max(),\n",
    "                         ax=-40, ay=-40),\n",
    "                   dict(x=data_yr_p.Monday.idxmin(),\n",
    "                        y=data_yr_p.Monday.min(),\n",
    "                        xref=\"x\", yref=\"y\",\n",
    "                        text=\"Mon Min:<br> %.3f\" % data_yr_p.Monday.min(),\n",
    "                        ax=0, ay=40)]\n",
    "\n",
    "Tue_annotations = [dict(x=26,\n",
    "                         y=data_yr_p.Tuesday.mean(),\n",
    "                         xref=\"x\", yref=\"y\",\n",
    "                         text=\"Tue Average:<br> %.3f\" % data_yr_p.Tuesday.mean(),\n",
    "                         ax=0, ay=-40),\n",
    "                    dict(x=data_yr_p.Tuesday.idxmax(),\n",
    "                         y=data_yr_p.Tuesday.max(),\n",
    "                         xref=\"x\", yref=\"y\",\n",
    "                         text=\"Tue Max:<br> %.3f\" % data_yr_p.Tuesday.max(),\n",
    "                         ax=-40, ay=-40),\n",
    "                   dict(x=data_yr_p.Tuesday.idxmin(),\n",
    "                        y=data_yr_p.Tuesday.min(),\n",
    "                        xref=\"x\", yref=\"y\",\n",
    "                        text=\"Tue Min:<br> %.3f\" % data_yr_p.Tuesday.min(),\n",
    "                        ax=0, ay=40)]\n",
    "\n",
    "\n",
    "Wed_annotations = [dict(x=26,\n",
    "                         y=data_yr_p.Wednesday.mean(),\n",
    "                         xref=\"x\", yref=\"y\",\n",
    "                         text=\"Wed Average:<br> %.3f\" % data_yr_p.Wednesday.mean(),\n",
    "                         ax=0, ay=-40),\n",
    "                    dict(x=data_yr_p.Wednesday.idxmax(),\n",
    "                         y=data_yr_p.Wednesday.max(),\n",
    "                         xref=\"x\", yref=\"y\",\n",
    "                         text=\"Wed Max:<br> %.3f\" % data_yr_p.Wednesday.max(),\n",
    "                         ax=-40, ay=-40),\n",
    "                   dict(x=data_yr_p.Wednesday.idxmin(),\n",
    "                        y=data_yr_p.Wednesday.min(),\n",
    "                        xref=\"x\", yref=\"y\",\n",
    "                        text=\"Fri Min:<br> %.3f\" % data_yr_p.Wednesday.min(),\n",
    "                        ax=0, ay=40)]\n",
    "\n",
    "\n",
    "Thu_annotations = [dict(x=26,\n",
    "                         y=data_yr_p.Thursday.mean(),\n",
    "                         xref=\"x\", yref=\"y\",\n",
    "                         text=\"Thu Average:<br> %.3f\" % data_yr_p.Thursday.mean(),\n",
    "                         ax=0, ay=-40),\n",
    "                    dict(x=data_yr_p.Thursday.idxmax(),\n",
    "                         y=data_yr_p.Thursday.max(),\n",
    "                         xref=\"x\", yref=\"y\",\n",
    "                         text=\"Thu Max:<br> %.3f\" % data_yr_p.Thursday.max(),\n",
    "                         ax=-40, ay=-40),\n",
    "                   dict(x=data_yr_p.Thursday.idxmin(),\n",
    "                        y=data_yr_p.Thursday.min(),\n",
    "                        xref=\"x\", yref=\"y\",\n",
    "                        text=\"Fri Min:<br> %.3f\" % data_yr_p.Thursday.min(),\n",
    "                        ax=0, ay=40)]\n",
    "\n",
    "Fri_annotations = [dict(x=26,\n",
    "                         y=data_yr_p.Friday.mean(),\n",
    "                         xref=\"x\", yref=\"y\",\n",
    "                         text=\"Fri Average:<br> %.3f\" % data_yr_p.Friday.mean(),\n",
    "                         ax=0, ay=-40),\n",
    "                    dict(x=data_yr_p.Friday.idxmax(),\n",
    "                         y=data_yr_p.Friday.max(),\n",
    "                         xref=\"x\", yref=\"y\",\n",
    "                         text=\"Fri Max:<br> %.3f\" % data_yr_p.Friday.max(),\n",
    "                         ax=-40, ay=-40),\n",
    "                   dict(x=data_yr_p.Friday.idxmin(),\n",
    "                        y=data_yr_p.Friday.min(),\n",
    "                        xref=\"x\", yref=\"y\",\n",
    "                        text=\"Fri Min:<br> %.3f\" % data_yr_p.Friday.min(),\n",
    "                        ax=0, ay=40)]\n",
    "\n",
    "\n",
    "Sat_annotations = [dict(x=26,\n",
    "                         y=data_yr_p.Saturday.mean(),\n",
    "                         xref=\"x\", yref=\"y\",\n",
    "                         text=\"Sat Average:<br> %.3f\" % data_yr_p.Saturday.mean(),\n",
    "                         ax=0, ay=-40),\n",
    "                    dict(x=data_yr_p.Saturday.idxmax(),\n",
    "                         y=data_yr_p.Saturday.max(),\n",
    "                         xref=\"x\", yref=\"y\",\n",
    "                         text=\"Sat Max:<br> %.3f\" % data_yr_p.Saturday.max(),\n",
    "                         ax=-40, ay=-40),\n",
    "                   dict(x=data_yr_p.Saturday.idxmin(),\n",
    "                        y=data_yr_p.Saturday.min(),\n",
    "                        xref=\"x\", yref=\"y\",\n",
    "                        text=\"Sat Min:<br> %.3f\" % data_yr_p.Saturday.min(),\n",
    "                        ax=0, ay=40)]\n",
    "\n",
    "Sun_annotations = [dict(x=26,\n",
    "                        y=data_yr_p.Sunday.mean(),\n",
    "                        xref=\"x\", yref=\"y\",\n",
    "                        text=\"Sun Average:<br> %.3f\" % data_yr_p.Sunday.mean(),\n",
    "                        ax=0, ay=40),\n",
    "                   dict(x=data_yr_p.Sunday.idxmax(),\n",
    "                        y=data_yr_p.Sunday.max(),\n",
    "                        xref=\"x\", yref=\"y\",\n",
    "                        text=\"Sun Max:<br> %.3f\" % data_yr_p.Sunday.max(),\n",
    "                        ax=0, ay=40),\n",
    "                   dict(x=data_yr_p.Sunday.idxmin(),\n",
    "                        y=data_yr_p.Sunday.min(),\n",
    "                        xref=\"x\", yref=\"y\",\n",
    "                        text=\"Sun Min:<br> %.3f\" % data_yr_p.Sunday.min(),\n",
    "                        ax=0, ay=40)\n",
    "                  ]\n",
    "\n",
    "fig.update_layout(\n",
    "    updatemenus=[\n",
    "        dict(\n",
    "            active=0,\n",
    "            buttons=list([\n",
    "                dict(label=\"ALL\",\n",
    "                     method=\"update\",\n",
    "                     args=[{\"visible\": [True, False, True, False, True, False, True, False, True, False, True, False, True, False]},\n",
    "                           {\"title\": \"ALL\",\n",
    "                            \"annotations\": []}]),\n",
    "                dict(label=\"Mon\",\n",
    "                     method=\"update\",\n",
    "                     args=[{\"visible\": [True, True, False, False, False, False, False, False, False, False, False, False, False, False]},\n",
    "                           {\"title\": \"Monday\",\n",
    "                            \"annotations\": Mon_annotations}]),\n",
    "                dict(label=\"Tue\",\n",
    "                     method=\"update\",\n",
    "                     args=[{\"visible\": [False, False, True, True, False, False, False, False, False, False, False, False, False, False]},\n",
    "                           {\"title\": \"Tuesday\",\n",
    "                            \"annotations\": Tue_annotations}]),\n",
    "                dict(label=\"Wed\",\n",
    "                     method=\"update\",\n",
    "                     args=[{\"visible\": [False, False, False, False, True, True, False, False, False, False, False, False, False, False]},\n",
    "                           {\"title\": \"Wednesday\",\n",
    "                            \"annotations\": Wed_annotations}]),\n",
    "                dict(label=\"Thu\",\n",
    "                     method=\"update\",\n",
    "                     args=[{\"visible\": [False, False, False, False, False, False, True, True, False, False, False, False, False, False]},\n",
    "                           {\"title\": \"Thursday\",\n",
    "                            \"annotations\": Thu_annotations}]),\n",
    "                dict(label=\"Fri\",\n",
    "                     method=\"update\",\n",
    "                     args=[{\"visible\": [False, False, False, False, False, False, False, False, True, True, False, False, False, False]},\n",
    "                           {\"title\": \"Friday\",\n",
    "                            \"annotations\": Fri_annotations}]),\n",
    "                \n",
    "                dict(label=\"Sat\",\n",
    "                     method=\"update\",\n",
    "                     args=[{\"visible\": [False, False, False, False, False, False, False, False, False, False, True, True, False, False]},\n",
    "                           {\"title\": \"Saturday\",\n",
    "                            \"annotations\": Sat_annotations}]),\n",
    "                \n",
    "                dict(label=\"Sun\",\n",
    "                     method=\"update\",\n",
    "                     args=[{\"visible\": [False, False, False, False, False, False, False, False, False, False, False, False, True, True]},\n",
    "                           {\"title\": \"Sunday\",\n",
    "                            \"annotations\": Sun_annotations}]),\n",
    "            ]),\n",
    "        )\n",
    "    ])\n",
    "\n",
    "# Set title\n",
    "fig.update_layout(title_text=\"Daywise Pattern Across the Year - Week Number on X-axis & Value on Y-axis\")\n",
    "\n",
    "fig.show()\n",
    "print('This is a Dynamic plot. Will be visible only after execution of this cell')"
   ]
  },
  {
   "cell_type": "markdown",
   "id": "bfab94cd",
   "metadata": {},
   "source": [
    "### First / Second / Third /Fourth Weekday accross Year"
   ]
  },
  {
   "cell_type": "code",
   "execution_count": 55,
   "id": "bb023578",
   "metadata": {},
   "outputs": [],
   "source": [
    "## Weekday input here\n",
    "\n",
    "weekday = 'Monday'\n",
    "\n",
    "\n",
    "month_dict = {'January':1,'February':2,'March':3, 'April':4, 'May':5, 'June':6, 'July':7, 'August':8, \\\n",
    "              'September':9, 'October':10, 'November':11, 'December':12}\n",
    "\n",
    "\n",
    "data_yr_weekday = data_yr[(data_yr['weekday'] == weekday)]\n",
    "data_yr_weekday.sort_values('index', inplace=True)\n",
    "data_yr_weekday['WeekdayinMonth'] = 0\n",
    "for month in month_dict:\n",
    "    weeks = len(data_yr_weekday[data_yr_weekday.month == month]['WeekdayinMonth'])\n",
    "    data_yr_weekday.loc[data_yr_weekday.month == month, 'WeekdayinMonth'] = [weekday + str(i) for i in range(1,weeks+1)]"
   ]
  },
  {
   "cell_type": "code",
   "execution_count": 32,
   "id": "1b07c0b8",
   "metadata": {},
   "outputs": [
    {
     "data": {
      "text/plain": [
       "August       31\n",
       "December     31\n",
       "October      31\n",
       "September    30\n",
       "November     30\n",
       "July          6\n",
       "Name: month, dtype: int64"
      ]
     },
     "execution_count": 32,
     "metadata": {},
     "output_type": "execute_result"
    }
   ],
   "source": [
    "data_yr.month.value_counts()"
   ]
  },
  {
   "cell_type": "code",
   "execution_count": 35,
   "id": "e42ffe04",
   "metadata": {},
   "outputs": [
    {
     "name": "stdout",
     "output_type": "stream",
     "text": [
      "                                         First / Second / Third /Fourth Weekday accross Months\n"
     ]
    },
    {
     "data": {
      "image/png": "[encoded data removed]",
      "text/plain": [
       "<Figure size 1800x500 with 1 Axes>"
      ]
     },
     "metadata": {},
     "output_type": "display_data"
    }
   ],
   "source": [
    "print('                                         First / Second / Third /Fourth Weekday accross Months')\n",
    "\n",
    "plt.figure(figsize=(18, 5), tight_layout=True)\n",
    "ax = sns.barplot(x=data_yr_weekday['month'], y=data_yr_weekday[target_col_name], \\\n",
    "                 hue=data_yr_weekday['WeekdayinMonth'], palette='pastel')\n",
    "\n",
    "ax.set(title='Monthly Comparision' ,xlabel='Month', ylabel=target_plot_label)\n",
    "ax.legend(title='Year', title_fontsize='10', loc='upper right')\n",
    "plt.grid()\n",
    "plt.show()"
   ]
  },
  {
   "cell_type": "markdown",
   "id": "dc8eb2ea",
   "metadata": {},
   "source": [
    "## A Closer look at - Last 30 Days  "
   ]
  },
  {
   "cell_type": "code",
   "execution_count": 37,
   "id": "6d9c9001",
   "metadata": {},
   "outputs": [
    {
     "data": {
      "text/html": [
       "<div>\n",
       "<style scoped>\n",
       "    .dataframe tbody tr th:only-of-type {\n",
       "        vertical-align: middle;\n",
       "    }\n",
       "\n",
       "    .dataframe tbody tr th {\n",
       "        vertical-align: top;\n",
       "    }\n",
       "\n",
       "    .dataframe thead th {\n",
       "        text-align: right;\n",
       "    }\n",
       "</style>\n",
       "<table border=\"1\" class=\"dataframe\">\n",
       "  <thead>\n",
       "    <tr style=\"text-align: right;\">\n",
       "      <th></th>\n",
       "      <th>rpd_fe_completeness</th>\n",
       "    </tr>\n",
       "  </thead>\n",
       "  <tbody>\n",
       "    <tr>\n",
       "      <th>2023-01-02</th>\n",
       "      <td>0.7</td>\n",
       "    </tr>\n",
       "    <tr>\n",
       "      <th>2023-01-03</th>\n",
       "      <td>0.7</td>\n",
       "    </tr>\n",
       "  </tbody>\n",
       "</table>\n",
       "</div>"
      ],
      "text/plain": [
       "            rpd_fe_completeness\n",
       "2023-01-02                  0.7\n",
       "2023-01-03                  0.7"
      ]
     },
     "execution_count": 37,
     "metadata": {},
     "output_type": "execute_result"
    }
   ],
   "source": [
    "last_30_data = data2[-30:]\n",
    "last_30_data.head(2)"
   ]
  },
  {
   "cell_type": "code",
   "execution_count": 40,
   "id": "22a52a66",
   "metadata": {},
   "outputs": [
    {
     "name": "stdout",
     "output_type": "stream",
     "text": [
      "Monday to Monday Patterns\n"
     ]
    },
    {
     "data": {
      "text/plain": [
       "<matplotlib.legend.Legend at 0x25a2d43e040>"
      ]
     },
     "execution_count": 40,
     "metadata": {},
     "output_type": "execute_result"
    },
    {
     "data": {
      "image/png": "[encoded data removed]",
      "text/plain": [
       "<Figure size 1200x400 with 1 Axes>"
      ]
     },
     "metadata": {},
     "output_type": "display_data"
    }
   ],
   "source": [
    "plt.figure(figsize=(12,4), tight_layout=True)\n",
    "print('Monday to Monday Patterns')\n",
    "sns.lineplot(data=last_30_data)\n",
    "plt.axhline(y=np.mean(last_30_data[target_col_name]), color='r', linestyle='-', label = 'Mean Value')\n",
    "sunday_df= last_30_data[last_30_data.index.dayofweek == 0]\n",
    "\n",
    "for date in sunday_df.index:\n",
    "    plt.axvline(x =date, ls='--', c='red', label = 'Monday')\n",
    "\n",
    "plt.title(\"A Closer look at - Last 30 Days to understand Daywise Trends\")\n",
    "plt.legend(loc=\"upper right\")"
   ]
  },
  {
   "cell_type": "markdown",
   "id": "7ec54bb2",
   "metadata": {},
   "source": [
    "## Weekly Patterns"
   ]
  },
  {
   "cell_type": "code",
   "execution_count": 41,
   "id": "03fcdb7f",
   "metadata": {},
   "outputs": [
    {
     "data": {
      "text/html": [
       "<div>\n",
       "<style scoped>\n",
       "    .dataframe tbody tr th:only-of-type {\n",
       "        vertical-align: middle;\n",
       "    }\n",
       "\n",
       "    .dataframe tbody tr th {\n",
       "        vertical-align: top;\n",
       "    }\n",
       "\n",
       "    .dataframe thead th {\n",
       "        text-align: right;\n",
       "    }\n",
       "</style>\n",
       "<table border=\"1\" class=\"dataframe\">\n",
       "  <thead>\n",
       "    <tr style=\"text-align: right;\">\n",
       "      <th></th>\n",
       "      <th>index</th>\n",
       "      <th>rpd_fe_completeness</th>\n",
       "      <th>year</th>\n",
       "      <th>month</th>\n",
       "      <th>wn</th>\n",
       "    </tr>\n",
       "  </thead>\n",
       "  <tbody>\n",
       "    <tr>\n",
       "      <th>0</th>\n",
       "      <td>2022-07-26</td>\n",
       "      <td>0.5</td>\n",
       "      <td>2022</td>\n",
       "      <td>July</td>\n",
       "      <td>30</td>\n",
       "    </tr>\n",
       "    <tr>\n",
       "      <th>1</th>\n",
       "      <td>2022-07-27</td>\n",
       "      <td>0.5</td>\n",
       "      <td>2022</td>\n",
       "      <td>July</td>\n",
       "      <td>30</td>\n",
       "    </tr>\n",
       "    <tr>\n",
       "      <th>2</th>\n",
       "      <td>2022-07-28</td>\n",
       "      <td>0.5</td>\n",
       "      <td>2022</td>\n",
       "      <td>July</td>\n",
       "      <td>30</td>\n",
       "    </tr>\n",
       "  </tbody>\n",
       "</table>\n",
       "</div>"
      ],
      "text/plain": [
       "       index  rpd_fe_completeness  year month  wn\n",
       "0 2022-07-26                  0.5  2022  July  30\n",
       "1 2022-07-27                  0.5  2022  July  30\n",
       "2 2022-07-28                  0.5  2022  July  30"
      ]
     },
     "execution_count": 41,
     "metadata": {},
     "output_type": "execute_result"
    }
   ],
   "source": [
    "data3= data.reset_index()\n",
    "data3['year'] = data3['index'].dt.year\n",
    "data3['month'] = data3['index'].dt.strftime('%B')\n",
    "data3['wn'] = data3['index'].dt.isocalendar().week\n",
    "data3.head(3)"
   ]
  },
  {
   "cell_type": "code",
   "execution_count": 42,
   "id": "1813d4c5",
   "metadata": {},
   "outputs": [
    {
     "data": {
      "text/plain": [
       "[(2023, 'February'), (2023, 'January'), (2022, 'December'), (2022, 'November')]"
      ]
     },
     "execution_count": 42,
     "metadata": {},
     "output_type": "execute_result"
    }
   ],
   "source": [
    "last_few_months = []\n",
    "for mn in zip(data3['year'][-90:].values[::-1], data3['month'][-90:].values[::-1]):\n",
    "    if mn not in last_few_months:\n",
    "        last_few_months.append(mn)\n",
    "        \n",
    "last_few_months    "
   ]
  },
  {
   "cell_type": "code",
   "execution_count": 48,
   "id": "6ec6153a",
   "metadata": {},
   "outputs": [
    {
     "data": {
      "image/png": "[encoded data removed]",
      "text/plain": [
       "<Figure size 2200x300 with 4 Axes>"
      ]
     },
     "metadata": {},
     "output_type": "display_data"
    }
   ],
   "source": [
    "fig, axes = plt.subplots(ncols=len(last_few_months), nrows=1, figsize=(22,3))\n",
    "\n",
    "for i, ax in zip(last_few_months, axes.flat):\n",
    "    year = i[0]\n",
    "    month = i[1]\n",
    "    colors = sns.color_palette('pastel')\n",
    "    test_pie = data3[(data3['month'] == month) & (data3['year'] == year)].resample('W', on='index')[target_col_name].mean()\n",
    "    test_pie = test_pie.reset_index()\n",
    "    test_pie[target_col_name] = test_pie[target_col_name].astype(float)\n",
    "    test_pie['index'] = test_pie['index'].dt.date\n",
    "    test_pie = test_pie.sort_values('index', ascending=True)\n",
    "    test_pie['Week of Month'] = ['Week ' + str(i+1) for i in range(len(test_pie))] \n",
    "    test_pie.sort_values(by='index', inplace = True) \n",
    "    test_pie\n",
    "    \n",
    "    ax.pie(test_pie[target_col_name], labels=test_pie['Week of Month'], autopct='%.0f %%', pctdistance=.7,\n",
    "          colors=colors, shadow=True)\n",
    "    ax.set_title('Most Marketable Week - ' + month +' Yr : ' + str(year), weight='bold')\n",
    "    \n",
    "    \n",
    "fig.suptitle(\"Weekly Patterns - Last 3/4 Months\", y= 1.1)\n",
    "plt.legend(loc=\"upper right\")\n",
    "plt.show()"
   ]
  },
  {
   "cell_type": "markdown",
   "id": "7e917fd1",
   "metadata": {},
   "source": [
    "## Monthly Patterns"
   ]
  },
  {
   "cell_type": "code",
   "execution_count": 48,
   "id": "f42f4874",
   "metadata": {},
   "outputs": [
    {
     "data": {
      "text/html": [
       "<div>\n",
       "<style scoped>\n",
       "    .dataframe tbody tr th:only-of-type {\n",
       "        vertical-align: middle;\n",
       "    }\n",
       "\n",
       "    .dataframe tbody tr th {\n",
       "        vertical-align: top;\n",
       "    }\n",
       "\n",
       "    .dataframe thead th {\n",
       "        text-align: right;\n",
       "    }\n",
       "</style>\n",
       "<table border=\"1\" class=\"dataframe\">\n",
       "  <thead>\n",
       "    <tr style=\"text-align: right;\">\n",
       "      <th></th>\n",
       "      <th>index</th>\n",
       "      <th>rpd_fe_completeness</th>\n",
       "      <th>year</th>\n",
       "      <th>month</th>\n",
       "      <th>weekday</th>\n",
       "      <th>wn</th>\n",
       "    </tr>\n",
       "  </thead>\n",
       "  <tbody>\n",
       "    <tr>\n",
       "      <th>55</th>\n",
       "      <td>2022-09-19</td>\n",
       "      <td>1.5</td>\n",
       "      <td>2022</td>\n",
       "      <td>September</td>\n",
       "      <td>Monday</td>\n",
       "      <td>38</td>\n",
       "    </tr>\n",
       "    <tr>\n",
       "      <th>118</th>\n",
       "      <td>2022-11-21</td>\n",
       "      <td>1.3</td>\n",
       "      <td>2022</td>\n",
       "      <td>November</td>\n",
       "      <td>Monday</td>\n",
       "      <td>47</td>\n",
       "    </tr>\n",
       "    <tr>\n",
       "      <th>41</th>\n",
       "      <td>2022-09-05</td>\n",
       "      <td>1.2</td>\n",
       "      <td>2022</td>\n",
       "      <td>September</td>\n",
       "      <td>Monday</td>\n",
       "      <td>36</td>\n",
       "    </tr>\n",
       "    <tr>\n",
       "      <th>27</th>\n",
       "      <td>2022-08-22</td>\n",
       "      <td>1.1</td>\n",
       "      <td>2022</td>\n",
       "      <td>August</td>\n",
       "      <td>Monday</td>\n",
       "      <td>34</td>\n",
       "    </tr>\n",
       "    <tr>\n",
       "      <th>132</th>\n",
       "      <td>2022-12-05</td>\n",
       "      <td>1.2</td>\n",
       "      <td>2022</td>\n",
       "      <td>December</td>\n",
       "      <td>Monday</td>\n",
       "      <td>49</td>\n",
       "    </tr>\n",
       "    <tr>\n",
       "      <th>...</th>\n",
       "      <td>...</td>\n",
       "      <td>...</td>\n",
       "      <td>...</td>\n",
       "      <td>...</td>\n",
       "      <td>...</td>\n",
       "      <td>...</td>\n",
       "    </tr>\n",
       "    <tr>\n",
       "      <th>138</th>\n",
       "      <td>2022-12-11</td>\n",
       "      <td>1.2</td>\n",
       "      <td>2022</td>\n",
       "      <td>December</td>\n",
       "      <td>Sunday</td>\n",
       "      <td>49</td>\n",
       "    </tr>\n",
       "    <tr>\n",
       "      <th>103</th>\n",
       "      <td>2022-11-06</td>\n",
       "      <td>1.3</td>\n",
       "      <td>2022</td>\n",
       "      <td>November</td>\n",
       "      <td>Sunday</td>\n",
       "      <td>44</td>\n",
       "    </tr>\n",
       "    <tr>\n",
       "      <th>54</th>\n",
       "      <td>2022-09-18</td>\n",
       "      <td>1.5</td>\n",
       "      <td>2022</td>\n",
       "      <td>September</td>\n",
       "      <td>Sunday</td>\n",
       "      <td>37</td>\n",
       "    </tr>\n",
       "    <tr>\n",
       "      <th>110</th>\n",
       "      <td>2022-11-13</td>\n",
       "      <td>1.4</td>\n",
       "      <td>2022</td>\n",
       "      <td>November</td>\n",
       "      <td>Sunday</td>\n",
       "      <td>45</td>\n",
       "    </tr>\n",
       "    <tr>\n",
       "      <th>124</th>\n",
       "      <td>2022-11-27</td>\n",
       "      <td>1.1</td>\n",
       "      <td>2022</td>\n",
       "      <td>November</td>\n",
       "      <td>Sunday</td>\n",
       "      <td>47</td>\n",
       "    </tr>\n",
       "  </tbody>\n",
       "</table>\n",
       "<p>159 rows × 6 columns</p>\n",
       "</div>"
      ],
      "text/plain": [
       "         index  rpd_fe_completeness  year      month weekday  wn\n",
       "55  2022-09-19                  1.5  2022  September  Monday  38\n",
       "118 2022-11-21                  1.3  2022   November  Monday  47\n",
       "41  2022-09-05                  1.2  2022  September  Monday  36\n",
       "27  2022-08-22                  1.1  2022     August  Monday  34\n",
       "132 2022-12-05                  1.2  2022   December  Monday  49\n",
       "..         ...                  ...   ...        ...     ...  ..\n",
       "138 2022-12-11                  1.2  2022   December  Sunday  49\n",
       "103 2022-11-06                  1.3  2022   November  Sunday  44\n",
       "54  2022-09-18                  1.5  2022  September  Sunday  37\n",
       "110 2022-11-13                  1.4  2022   November  Sunday  45\n",
       "124 2022-11-27                  1.1  2022   November  Sunday  47\n",
       "\n",
       "[159 rows x 6 columns]"
      ]
     },
     "execution_count": 48,
     "metadata": {},
     "output_type": "execute_result"
    }
   ],
   "source": [
    "data_yr"
   ]
  },
  {
   "cell_type": "code",
   "execution_count": 51,
   "id": "d7327028",
   "metadata": {},
   "outputs": [
    {
     "name": "stdout",
     "output_type": "stream",
     "text": [
      "Year : 2022   ||  Monthly average across the year\n"
     ]
    },
    {
     "data": {
      "image/png": "[encoded data removed]",
      "text/plain": [
       "<Figure size 1200x400 with 1 Axes>"
      ]
     },
     "metadata": {},
     "output_type": "display_data"
    }
   ],
   "source": [
    "mav_yr = data_yr.groupby(data_yr['index'].dt.strftime('%B'))[target_col_name].mean().astype(float).sort_values()\n",
    "mav_yr = pd.DataFrame(mav_yr).reset_index()\n",
    "\n",
    "mav_yr.sort_values('index', key = lambda x : x.apply (lambda x : month_dict[x]) , inplace=True)\n",
    "print('Year : ' + str(year) + '   ||  Monthly average across the year')\n",
    "\n",
    "plt.figure(figsize=(12,4), tight_layout=True)\n",
    "colors = sns.color_palette('pastel')\n",
    "plt.bar(mav_yr['index'], mav_yr[target_col_name], color=colors[:5])\n",
    "plt.xlabel('Month')\n",
    "plt.ylabel(target_plot_label)\n",
    "plt.title('Monthly Averages across the Year')\n",
    "plt.grid()\n",
    "plt.show()"
   ]
  },
  {
   "cell_type": "code",
   "execution_count": 50,
   "id": "91f4edee",
   "metadata": {},
   "outputs": [
    {
     "data": {
      "image/png": "[encoded data removed]",
      "text/plain": [
       "<Figure size 1000x500 with 1 Axes>"
      ]
     },
     "metadata": {},
     "output_type": "display_data"
    }
   ],
   "source": [
    "plt.figure(figsize=(10,5), tight_layout=True)\n",
    "ax = sns.boxplot(data=data_yr, x='month', y=target_col_name, palette='Set2', linewidth=2.5)\n",
    "ax.set(title='Monthly level Outlier Analysis  ' + str(year) + ' - Boxplot', xlabel='Months', ylabel=target_plot_label)\n",
    "plt.grid()\n",
    "plt.show()"
   ]
  },
  {
   "cell_type": "code",
   "execution_count": null,
   "id": "d62522fe",
   "metadata": {},
   "outputs": [],
   "source": []
  },
  {
   "cell_type": "markdown",
   "id": "805fd90b",
   "metadata": {},
   "source": [
    "## STL - TRENDS IN LAST 3 Months Data"
   ]
  },
  {
   "cell_type": "code",
   "execution_count": 49,
   "id": "16f3ceac",
   "metadata": {},
   "outputs": [],
   "source": [
    "from IPython.display import display\n",
    "\n",
    "import numpy as np\n",
    "import pandas as pd\n",
    "pd.set_option('display.max_rows', 15)\n",
    "pd.set_option('display.max_columns', 500)\n",
    "pd.set_option('display.width', 1000)\n",
    "\n",
    "import matplotlib.pyplot as plt\n",
    "from datetime import datetime\n",
    "from datetime import timedelta\n",
    "from pandas.plotting import register_matplotlib_converters\n",
    "from mpl_toolkits.mplot3d import Axes3D\n",
    "\n",
    "from statsmodels.tsa.stattools import acf, pacf\n",
    "from statsmodels.tsa.statespace.sarimax import SARIMAX\n",
    "register_matplotlib_converters()\n",
    "from time import time\n",
    "import seaborn as sns\n",
    "sns.set(style=\"whitegrid\")\n",
    "\n",
    "from sklearn.preprocessing import StandardScaler\n",
    "from sklearn.decomposition import PCA\n",
    "from sklearn.cluster import KMeans\n",
    "from sklearn.covariance import EllipticEnvelope\n",
    "\n",
    "import warnings\n",
    "warnings.filterwarnings('ignore')\n",
    "\n",
    "RANDOM_SEED = np.random.seed(0)\n",
    "\n",
    "from statsmodels.tsa.seasonal import seasonal_decompose\n",
    "import matplotlib.dates as mdates"
   ]
  },
  {
   "cell_type": "code",
   "execution_count": 50,
   "id": "140a1ee3",
   "metadata": {},
   "outputs": [
    {
     "data": {
      "text/html": [
       "<div>\n",
       "<style scoped>\n",
       "    .dataframe tbody tr th:only-of-type {\n",
       "        vertical-align: middle;\n",
       "    }\n",
       "\n",
       "    .dataframe tbody tr th {\n",
       "        vertical-align: top;\n",
       "    }\n",
       "\n",
       "    .dataframe thead th {\n",
       "        text-align: right;\n",
       "    }\n",
       "</style>\n",
       "<table border=\"1\" class=\"dataframe\">\n",
       "  <thead>\n",
       "    <tr style=\"text-align: right;\">\n",
       "      <th></th>\n",
       "      <th>Count(*)</th>\n",
       "    </tr>\n",
       "  </thead>\n",
       "  <tbody>\n",
       "    <tr>\n",
       "      <th>2022-10-22</th>\n",
       "      <td>97712.0</td>\n",
       "    </tr>\n",
       "    <tr>\n",
       "      <th>2022-10-23</th>\n",
       "      <td>61152.0</td>\n",
       "    </tr>\n",
       "    <tr>\n",
       "      <th>2022-10-24</th>\n",
       "      <td>35517.0</td>\n",
       "    </tr>\n",
       "    <tr>\n",
       "      <th>2022-10-25</th>\n",
       "      <td>75332.0</td>\n",
       "    </tr>\n",
       "    <tr>\n",
       "      <th>2022-10-26</th>\n",
       "      <td>90694.0</td>\n",
       "    </tr>\n",
       "  </tbody>\n",
       "</table>\n",
       "</div>"
      ],
      "text/plain": [
       "            Count(*)\n",
       "2022-10-22   97712.0\n",
       "2022-10-23   61152.0\n",
       "2022-10-24   35517.0\n",
       "2022-10-25   75332.0\n",
       "2022-10-26   90694.0"
      ]
     },
     "execution_count": 50,
     "metadata": {},
     "output_type": "execute_result"
    }
   ],
   "source": [
    "data_last_3_months = data[-90:]\n",
    "data_last_3_months.head()"
   ]
  },
  {
   "cell_type": "code",
   "execution_count": 51,
   "id": "af57c48a",
   "metadata": {},
   "outputs": [
    {
     "data": {
      "image/png": "[encoded data removed]",
      "text/plain": [
       "<Figure size 1200x800 with 4 Axes>"
      ]
     },
     "metadata": {},
     "output_type": "display_data"
    }
   ],
   "source": [
    "plt.rc('figure',figsize=(12,8))\n",
    "plt.rc('font',size=15)\n",
    "\n",
    "result = seasonal_decompose(data_last_3_months, model='additive')\n",
    "fig = result.plot()"
   ]
  },
  {
   "cell_type": "code",
   "execution_count": null,
   "id": "f7db0104",
   "metadata": {},
   "outputs": [],
   "source": []
  },
  {
   "cell_type": "code",
   "execution_count": null,
   "id": "1e4cf2b1",
   "metadata": {},
   "outputs": [],
   "source": []
  },
  {
   "cell_type": "code",
   "execution_count": null,
   "id": "eba17aa2",
   "metadata": {},
   "outputs": [],
   "source": []
  }
 ],
 "metadata": {
  "kernelspec": {
   "display_name": "Python 3 (ipykernel)",
   "language": "python",
   "name": "python3"
  },
  "language_info": {
   "codemirror_mode": {
    "name": "ipython",
    "version": 3
   },
   "file_extension": ".py",
   "mimetype": "text/x-python",
   "name": "python",
   "nbconvert_exporter": "python",
   "pygments_lexer": "ipython3",
   "version": "3.11.5"
  }
 },
 "nbformat": 4,
 "nbformat_minor": 5
}
